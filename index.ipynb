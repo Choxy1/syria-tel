{
 "cells": [
  {
   "cell_type": "markdown",
   "metadata": {},
   "source": [
    "# 1.0. Business Understanding\n"
   ]
  },
  {
   "cell_type": "markdown",
   "metadata": {},
   "source": [
    "# Overview"
   ]
  },
  {
   "cell_type": "markdown",
   "metadata": {},
   "source": [
    "The global telecommunications industry is known for intense competition and unpredictable business conditions, making it challenging for less resilient companies. Customer retention fluctuates dramatically due to factors such as economic downturns, rising costs, competitive alternatives, rapid technological advancements, globalization, government intervention, and various other influences."
   ]
  },
  {
   "cell_type": "markdown",
   "metadata": {},
   "source": [
    "# Problem Statement"
   ]
  },
  {
   "cell_type": "markdown",
   "metadata": {},
   "source": [
    "Syria Telecommunications is grappling with the same challenges as other major telecom companies, but possibly at a more severe level. While the industry standard churn rate falls between 5% and 7%, Syria Telecommunications has seen its churn rate spike to nearly 15% at the time of data collection. In response, the company's management has tasked the Data Science Department with the responsibility of gathering, cleaning, and analyzing data to uncover the reasons behind this alarming rate and to propose practical solutions to address the issue."
   ]
  },
  {
   "cell_type": "markdown",
   "metadata": {},
   "source": [
    "# Business Problem"
   ]
  },
  {
   "cell_type": "markdown",
   "metadata": {},
   "source": [
    "Despite the potential for booming profits and increased market share, Syria Telecommunications is experiencing a decline in customer retention. This downward trend threatens to steer the company away from its business objectives and hinder its growth."
   ]
  },
  {
   "cell_type": "markdown",
   "metadata": {},
   "source": [
    "# Objectives\n"
   ]
  },
  {
   "cell_type": "markdown",
   "metadata": {},
   "source": [
    "To identify factors leading to increased churn rates\n",
    "\n",
    "To create a classification model that predicts whether a customer will churn with a recall of over 80%\n",
    "\n",
    "To give customer retention recommendations"
   ]
  },
  {
   "cell_type": "markdown",
   "metadata": {},
   "source": [
    "# 2.0 Data understanding"
   ]
  },
  {
   "cell_type": "markdown",
   "metadata": {},
   "source": [
    "The data was sourced from Kaggle.\n",
    "\n",
    "There are 3333 records and 21 features in the data.\n",
    "\n",
    "Associated columns included are:\n",
    "\n",
    "State: The location of the customer.\n",
    "\n",
    "Account Length: The number of days the account was held by the customer.\n",
    "\n",
    "Area Code: The area code of the customer.\n",
    "\n",
    "Phone Number: Phone number assigned to the user.\n",
    "\n",
    "International Plan: Indicator of whether the customer has an international plan.\n",
    "\n",
    "Voice Mail Plan: Indicator of whether the customer has a voicemail plan.\n",
    "\n",
    "Number Vmail Messages: Number of voicemails sent.\n",
    "\n",
    "Total Day Minutes: Number of minutes the customer has been in calls during the day.\n",
    "\n",
    "Total Day Calls: Total calls made during the day.\n",
    "\n",
    "Total Day Charge: Billed charge to the customer for all day calls.\n",
    "\n",
    "Total Eve Minutes: Number of minutes the customer has been in calls during the evening.\n",
    "\n",
    "Total Eve Calls: Total calls made during the evening.\n",
    "\n",
    "Total Eve Charge: Billed charge to the customer for all evening calls.\n",
    "\n",
    "Total Night Minutes: Number of minutes the customer has been in calls during the night.\n",
    "\n",
    "Total Night Calls: Total calls made during the night.\n",
    "\n",
    "Total Night Charge: Billed charge to the customer for all night calls.\n",
    "\n",
    "Total Intl Minutes: Total number minutes on international calls.\n",
    "\n",
    "Total Intl Calls: Total internation calls made.\n",
    "\n",
    "Total Intl Charge: Billed charge to the customer for all international calls.\n",
    "\n",
    "Customer Service Calls: Number of calls made to customer service.\n",
    "\n",
    "Churn: Indication of whether the customer terminated their contract."
   ]
  },
  {
   "cell_type": "markdown",
   "metadata": {},
   "source": [
    "# 3.0 Data Preparation"
   ]
  },
  {
   "cell_type": "markdown",
   "metadata": {},
   "source": [
    "We explore the data by understanding aspects of the data - including, loading the data, identifying the shape, features and data types, and understanding the summary statistics."
   ]
  },
  {
   "cell_type": "code",
   "execution_count": 3,
   "metadata": {},
   "outputs": [],
   "source": [
    "# Data Exploration\n",
    "import pandas as pd\n",
    "import numpy as np\n",
    "import matplotlib.pyplot as plt\n",
    "import seaborn as sns\n",
    "\n",
    "# Preprocessing and Metric Evaluation\n",
    "from sklearn.preprocessing import LabelEncoder, OneHotEncoder, StandardScaler\n",
    "from sklearn.metrics import recall_score, accuracy_score\n",
    "from sklearn.model_selection import train_test_split, cross_val_score, GridSearchCV\n",
    "from imblearn.over_sampling import SMOTE\n",
    "\n",
    "# Models\n",
    "from sklearn.linear_model import LogisticRegression\n",
    "from sklearn.dummy import DummyClassifier\n",
    "from sklearn.tree import DecisionTreeClassifier\n",
    "from sklearn.neighbors import KNeighborsClassifier\n",
    "from sklearn.ensemble import AdaBoostClassifier, GradientBoostingClassifier, RandomForestClassifier\n",
    "#import xgboost as xb"
   ]
  },
  {
   "cell_type": "code",
   "execution_count": 4,
   "metadata": {},
   "outputs": [],
   "source": [
    "class DataPreparation():\n",
    "    \"\"\"\n",
    "    This class takes a dataframe and returns some basic information.\n",
    "    Consider making this ONE METHOD that returns everything.\n",
    "    \"\"\"\n",
    "    def __init__(self, data):\n",
    "        self.data = data\n",
    "        \n",
    "    def read_head(self):\n",
    "        \"\"\"Returns the first 5 rows\"\"\"\n",
    "        return self.data.head()\n",
    "    \n",
    "    def read_columns(self):\n",
    "        \"\"\"Returns the columns of the DataFrame\"\"\"\n",
    "        return self.data.columns\n",
    "    \n",
    "    def read_info(self):\n",
    "        \"\"\"Returns the features, datatypes and non-null count\"\"\"\n",
    "        return self.data.info()\n",
    "    \n",
    "    def read_describe(self):\n",
    "        \"\"\"Returns the statistical summary of the dataset\"\"\"\n",
    "        return self.data.describe()\n",
    "    \n",
    "    def read_shape(self):\n",
    "        \"\"\"Returns the number of rows and columns\"\"\"\n",
    "        return self.data.shape\n",
    "    \n",
    "    def read_corr(self):\n",
    "        \"\"\"Returns a correlation dataframe\"\"\"\n",
    "        return self.data.corr()\n",
    "    \n",
    "    def read_corr_wrt_target(self, target='churn'):\n",
    "        \"\"\"Returns a Series containing the correlation of features with respect to target\"\"\"\n",
    "        return self.data.corr()[target].sort_values(ascending=False)\n",
    "    \n",
    "    def read_multicollinearity(self, target='churn'):\n",
    "        \"\"\"Returns a correlation dataframe without the target\"\"\"\n",
    "        return self.data.corr().iloc[0:-1, 0:-1]\n",
    "    \n",
    "    def read_na(self):\n",
    "        \"\"\"Returns the sum of all null values per feature\"\"\"\n",
    "        return self.data.isna().sum()\n",
    "    \n",
    "    def read_duplicated(self):\n",
    "        \"\"\"Returns the sum of all duplicated records\"\"\"\n",
    "        return self.data.duplicated().sum()"
   ]
  },
  {
   "cell_type": "code",
   "execution_count": 5,
   "metadata": {},
   "outputs": [],
   "source": [
    "# The data in DataFrame\n",
    "df = pd.read_csv('bigml_59c28831336c6604c800002a.csv')"
   ]
  },
  {
   "cell_type": "code",
   "execution_count": 6,
   "metadata": {},
   "outputs": [
    {
     "data": {
      "text/html": [
       "<div>\n",
       "<style scoped>\n",
       "    .dataframe tbody tr th:only-of-type {\n",
       "        vertical-align: middle;\n",
       "    }\n",
       "\n",
       "    .dataframe tbody tr th {\n",
       "        vertical-align: top;\n",
       "    }\n",
       "\n",
       "    .dataframe thead th {\n",
       "        text-align: right;\n",
       "    }\n",
       "</style>\n",
       "<table border=\"1\" class=\"dataframe\">\n",
       "  <thead>\n",
       "    <tr style=\"text-align: right;\">\n",
       "      <th></th>\n",
       "      <th>state</th>\n",
       "      <th>account length</th>\n",
       "      <th>area code</th>\n",
       "      <th>phone number</th>\n",
       "      <th>international plan</th>\n",
       "      <th>voice mail plan</th>\n",
       "      <th>number vmail messages</th>\n",
       "      <th>total day minutes</th>\n",
       "      <th>total day calls</th>\n",
       "      <th>total day charge</th>\n",
       "      <th>...</th>\n",
       "      <th>total eve calls</th>\n",
       "      <th>total eve charge</th>\n",
       "      <th>total night minutes</th>\n",
       "      <th>total night calls</th>\n",
       "      <th>total night charge</th>\n",
       "      <th>total intl minutes</th>\n",
       "      <th>total intl calls</th>\n",
       "      <th>total intl charge</th>\n",
       "      <th>customer service calls</th>\n",
       "      <th>churn</th>\n",
       "    </tr>\n",
       "  </thead>\n",
       "  <tbody>\n",
       "    <tr>\n",
       "      <th>0</th>\n",
       "      <td>KS</td>\n",
       "      <td>128</td>\n",
       "      <td>415</td>\n",
       "      <td>382-4657</td>\n",
       "      <td>no</td>\n",
       "      <td>yes</td>\n",
       "      <td>25</td>\n",
       "      <td>265.1</td>\n",
       "      <td>110</td>\n",
       "      <td>45.07</td>\n",
       "      <td>...</td>\n",
       "      <td>99</td>\n",
       "      <td>16.78</td>\n",
       "      <td>244.7</td>\n",
       "      <td>91</td>\n",
       "      <td>11.01</td>\n",
       "      <td>10.0</td>\n",
       "      <td>3</td>\n",
       "      <td>2.70</td>\n",
       "      <td>1</td>\n",
       "      <td>False</td>\n",
       "    </tr>\n",
       "    <tr>\n",
       "      <th>1</th>\n",
       "      <td>OH</td>\n",
       "      <td>107</td>\n",
       "      <td>415</td>\n",
       "      <td>371-7191</td>\n",
       "      <td>no</td>\n",
       "      <td>yes</td>\n",
       "      <td>26</td>\n",
       "      <td>161.6</td>\n",
       "      <td>123</td>\n",
       "      <td>27.47</td>\n",
       "      <td>...</td>\n",
       "      <td>103</td>\n",
       "      <td>16.62</td>\n",
       "      <td>254.4</td>\n",
       "      <td>103</td>\n",
       "      <td>11.45</td>\n",
       "      <td>13.7</td>\n",
       "      <td>3</td>\n",
       "      <td>3.70</td>\n",
       "      <td>1</td>\n",
       "      <td>False</td>\n",
       "    </tr>\n",
       "    <tr>\n",
       "      <th>2</th>\n",
       "      <td>NJ</td>\n",
       "      <td>137</td>\n",
       "      <td>415</td>\n",
       "      <td>358-1921</td>\n",
       "      <td>no</td>\n",
       "      <td>no</td>\n",
       "      <td>0</td>\n",
       "      <td>243.4</td>\n",
       "      <td>114</td>\n",
       "      <td>41.38</td>\n",
       "      <td>...</td>\n",
       "      <td>110</td>\n",
       "      <td>10.30</td>\n",
       "      <td>162.6</td>\n",
       "      <td>104</td>\n",
       "      <td>7.32</td>\n",
       "      <td>12.2</td>\n",
       "      <td>5</td>\n",
       "      <td>3.29</td>\n",
       "      <td>0</td>\n",
       "      <td>False</td>\n",
       "    </tr>\n",
       "    <tr>\n",
       "      <th>3</th>\n",
       "      <td>OH</td>\n",
       "      <td>84</td>\n",
       "      <td>408</td>\n",
       "      <td>375-9999</td>\n",
       "      <td>yes</td>\n",
       "      <td>no</td>\n",
       "      <td>0</td>\n",
       "      <td>299.4</td>\n",
       "      <td>71</td>\n",
       "      <td>50.90</td>\n",
       "      <td>...</td>\n",
       "      <td>88</td>\n",
       "      <td>5.26</td>\n",
       "      <td>196.9</td>\n",
       "      <td>89</td>\n",
       "      <td>8.86</td>\n",
       "      <td>6.6</td>\n",
       "      <td>7</td>\n",
       "      <td>1.78</td>\n",
       "      <td>2</td>\n",
       "      <td>False</td>\n",
       "    </tr>\n",
       "    <tr>\n",
       "      <th>4</th>\n",
       "      <td>OK</td>\n",
       "      <td>75</td>\n",
       "      <td>415</td>\n",
       "      <td>330-6626</td>\n",
       "      <td>yes</td>\n",
       "      <td>no</td>\n",
       "      <td>0</td>\n",
       "      <td>166.7</td>\n",
       "      <td>113</td>\n",
       "      <td>28.34</td>\n",
       "      <td>...</td>\n",
       "      <td>122</td>\n",
       "      <td>12.61</td>\n",
       "      <td>186.9</td>\n",
       "      <td>121</td>\n",
       "      <td>8.41</td>\n",
       "      <td>10.1</td>\n",
       "      <td>3</td>\n",
       "      <td>2.73</td>\n",
       "      <td>3</td>\n",
       "      <td>False</td>\n",
       "    </tr>\n",
       "  </tbody>\n",
       "</table>\n",
       "<p>5 rows × 21 columns</p>\n",
       "</div>"
      ],
      "text/plain": [
       "  state  account length  area code phone number international plan  \\\n",
       "0    KS             128        415     382-4657                 no   \n",
       "1    OH             107        415     371-7191                 no   \n",
       "2    NJ             137        415     358-1921                 no   \n",
       "3    OH              84        408     375-9999                yes   \n",
       "4    OK              75        415     330-6626                yes   \n",
       "\n",
       "  voice mail plan  number vmail messages  total day minutes  total day calls  \\\n",
       "0             yes                     25              265.1              110   \n",
       "1             yes                     26              161.6              123   \n",
       "2              no                      0              243.4              114   \n",
       "3              no                      0              299.4               71   \n",
       "4              no                      0              166.7              113   \n",
       "\n",
       "   total day charge  ...  total eve calls  total eve charge  \\\n",
       "0             45.07  ...               99             16.78   \n",
       "1             27.47  ...              103             16.62   \n",
       "2             41.38  ...              110             10.30   \n",
       "3             50.90  ...               88              5.26   \n",
       "4             28.34  ...              122             12.61   \n",
       "\n",
       "   total night minutes  total night calls  total night charge  \\\n",
       "0                244.7                 91               11.01   \n",
       "1                254.4                103               11.45   \n",
       "2                162.6                104                7.32   \n",
       "3                196.9                 89                8.86   \n",
       "4                186.9                121                8.41   \n",
       "\n",
       "   total intl minutes  total intl calls  total intl charge  \\\n",
       "0                10.0                 3               2.70   \n",
       "1                13.7                 3               3.70   \n",
       "2                12.2                 5               3.29   \n",
       "3                 6.6                 7               1.78   \n",
       "4                10.1                 3               2.73   \n",
       "\n",
       "   customer service calls  churn  \n",
       "0                       1  False  \n",
       "1                       1  False  \n",
       "2                       0  False  \n",
       "3                       2  False  \n",
       "4                       3  False  \n",
       "\n",
       "[5 rows x 21 columns]"
      ]
     },
     "execution_count": 6,
     "metadata": {},
     "output_type": "execute_result"
    }
   ],
   "source": [
    "# A data preparation Object Instatiated\n",
    "dp = DataPreparation(data=df)\n",
    "\n",
    "# First 5 lines of the DataFrame\n",
    "dp.read_head()"
   ]
  },
  {
   "cell_type": "code",
   "execution_count": 7,
   "metadata": {},
   "outputs": [
    {
     "data": {
      "text/plain": [
       "Index(['state', 'account length', 'area code', 'phone number',\n",
       "       'international plan', 'voice mail plan', 'number vmail messages',\n",
       "       'total day minutes', 'total day calls', 'total day charge',\n",
       "       'total eve minutes', 'total eve calls', 'total eve charge',\n",
       "       'total night minutes', 'total night calls', 'total night charge',\n",
       "       'total intl minutes', 'total intl calls', 'total intl charge',\n",
       "       'customer service calls', 'churn'],\n",
       "      dtype='object')"
      ]
     },
     "execution_count": 7,
     "metadata": {},
     "output_type": "execute_result"
    }
   ],
   "source": [
    "# Explore the column names\n",
    "dp.read_columns()"
   ]
  },
  {
   "cell_type": "code",
   "execution_count": 8,
   "metadata": {},
   "outputs": [
    {
     "name": "stdout",
     "output_type": "stream",
     "text": [
      "<class 'pandas.core.frame.DataFrame'>\n",
      "RangeIndex: 3333 entries, 0 to 3332\n",
      "Data columns (total 21 columns):\n",
      " #   Column                  Non-Null Count  Dtype  \n",
      "---  ------                  --------------  -----  \n",
      " 0   state                   3333 non-null   object \n",
      " 1   account length          3333 non-null   int64  \n",
      " 2   area code               3333 non-null   int64  \n",
      " 3   phone number            3333 non-null   object \n",
      " 4   international plan      3333 non-null   object \n",
      " 5   voice mail plan         3333 non-null   object \n",
      " 6   number vmail messages   3333 non-null   int64  \n",
      " 7   total day minutes       3333 non-null   float64\n",
      " 8   total day calls         3333 non-null   int64  \n",
      " 9   total day charge        3333 non-null   float64\n",
      " 10  total eve minutes       3333 non-null   float64\n",
      " 11  total eve calls         3333 non-null   int64  \n",
      " 12  total eve charge        3333 non-null   float64\n",
      " 13  total night minutes     3333 non-null   float64\n",
      " 14  total night calls       3333 non-null   int64  \n",
      " 15  total night charge      3333 non-null   float64\n",
      " 16  total intl minutes      3333 non-null   float64\n",
      " 17  total intl calls        3333 non-null   int64  \n",
      " 18  total intl charge       3333 non-null   float64\n",
      " 19  customer service calls  3333 non-null   int64  \n",
      " 20  churn                   3333 non-null   bool   \n",
      "dtypes: bool(1), float64(8), int64(8), object(4)\n",
      "memory usage: 524.2+ KB\n"
     ]
    }
   ],
   "source": [
    "# Explore features and their datatypes\n",
    "dp.read_info()"
   ]
  },
  {
   "cell_type": "code",
   "execution_count": 9,
   "metadata": {},
   "outputs": [
    {
     "data": {
      "text/html": [
       "<div>\n",
       "<style scoped>\n",
       "    .dataframe tbody tr th:only-of-type {\n",
       "        vertical-align: middle;\n",
       "    }\n",
       "\n",
       "    .dataframe tbody tr th {\n",
       "        vertical-align: top;\n",
       "    }\n",
       "\n",
       "    .dataframe thead th {\n",
       "        text-align: right;\n",
       "    }\n",
       "</style>\n",
       "<table border=\"1\" class=\"dataframe\">\n",
       "  <thead>\n",
       "    <tr style=\"text-align: right;\">\n",
       "      <th></th>\n",
       "      <th>account length</th>\n",
       "      <th>area code</th>\n",
       "      <th>number vmail messages</th>\n",
       "      <th>total day minutes</th>\n",
       "      <th>total day calls</th>\n",
       "      <th>total day charge</th>\n",
       "      <th>total eve minutes</th>\n",
       "      <th>total eve calls</th>\n",
       "      <th>total eve charge</th>\n",
       "      <th>total night minutes</th>\n",
       "      <th>total night calls</th>\n",
       "      <th>total night charge</th>\n",
       "      <th>total intl minutes</th>\n",
       "      <th>total intl calls</th>\n",
       "      <th>total intl charge</th>\n",
       "      <th>customer service calls</th>\n",
       "    </tr>\n",
       "  </thead>\n",
       "  <tbody>\n",
       "    <tr>\n",
       "      <th>count</th>\n",
       "      <td>3333.000000</td>\n",
       "      <td>3333.000000</td>\n",
       "      <td>3333.000000</td>\n",
       "      <td>3333.000000</td>\n",
       "      <td>3333.000000</td>\n",
       "      <td>3333.000000</td>\n",
       "      <td>3333.000000</td>\n",
       "      <td>3333.000000</td>\n",
       "      <td>3333.000000</td>\n",
       "      <td>3333.000000</td>\n",
       "      <td>3333.000000</td>\n",
       "      <td>3333.000000</td>\n",
       "      <td>3333.000000</td>\n",
       "      <td>3333.000000</td>\n",
       "      <td>3333.000000</td>\n",
       "      <td>3333.000000</td>\n",
       "    </tr>\n",
       "    <tr>\n",
       "      <th>mean</th>\n",
       "      <td>101.064806</td>\n",
       "      <td>437.182418</td>\n",
       "      <td>8.099010</td>\n",
       "      <td>179.775098</td>\n",
       "      <td>100.435644</td>\n",
       "      <td>30.562307</td>\n",
       "      <td>200.980348</td>\n",
       "      <td>100.114311</td>\n",
       "      <td>17.083540</td>\n",
       "      <td>200.872037</td>\n",
       "      <td>100.107711</td>\n",
       "      <td>9.039325</td>\n",
       "      <td>10.237294</td>\n",
       "      <td>4.479448</td>\n",
       "      <td>2.764581</td>\n",
       "      <td>1.562856</td>\n",
       "    </tr>\n",
       "    <tr>\n",
       "      <th>std</th>\n",
       "      <td>39.822106</td>\n",
       "      <td>42.371290</td>\n",
       "      <td>13.688365</td>\n",
       "      <td>54.467389</td>\n",
       "      <td>20.069084</td>\n",
       "      <td>9.259435</td>\n",
       "      <td>50.713844</td>\n",
       "      <td>19.922625</td>\n",
       "      <td>4.310668</td>\n",
       "      <td>50.573847</td>\n",
       "      <td>19.568609</td>\n",
       "      <td>2.275873</td>\n",
       "      <td>2.791840</td>\n",
       "      <td>2.461214</td>\n",
       "      <td>0.753773</td>\n",
       "      <td>1.315491</td>\n",
       "    </tr>\n",
       "    <tr>\n",
       "      <th>min</th>\n",
       "      <td>1.000000</td>\n",
       "      <td>408.000000</td>\n",
       "      <td>0.000000</td>\n",
       "      <td>0.000000</td>\n",
       "      <td>0.000000</td>\n",
       "      <td>0.000000</td>\n",
       "      <td>0.000000</td>\n",
       "      <td>0.000000</td>\n",
       "      <td>0.000000</td>\n",
       "      <td>23.200000</td>\n",
       "      <td>33.000000</td>\n",
       "      <td>1.040000</td>\n",
       "      <td>0.000000</td>\n",
       "      <td>0.000000</td>\n",
       "      <td>0.000000</td>\n",
       "      <td>0.000000</td>\n",
       "    </tr>\n",
       "    <tr>\n",
       "      <th>25%</th>\n",
       "      <td>74.000000</td>\n",
       "      <td>408.000000</td>\n",
       "      <td>0.000000</td>\n",
       "      <td>143.700000</td>\n",
       "      <td>87.000000</td>\n",
       "      <td>24.430000</td>\n",
       "      <td>166.600000</td>\n",
       "      <td>87.000000</td>\n",
       "      <td>14.160000</td>\n",
       "      <td>167.000000</td>\n",
       "      <td>87.000000</td>\n",
       "      <td>7.520000</td>\n",
       "      <td>8.500000</td>\n",
       "      <td>3.000000</td>\n",
       "      <td>2.300000</td>\n",
       "      <td>1.000000</td>\n",
       "    </tr>\n",
       "    <tr>\n",
       "      <th>50%</th>\n",
       "      <td>101.000000</td>\n",
       "      <td>415.000000</td>\n",
       "      <td>0.000000</td>\n",
       "      <td>179.400000</td>\n",
       "      <td>101.000000</td>\n",
       "      <td>30.500000</td>\n",
       "      <td>201.400000</td>\n",
       "      <td>100.000000</td>\n",
       "      <td>17.120000</td>\n",
       "      <td>201.200000</td>\n",
       "      <td>100.000000</td>\n",
       "      <td>9.050000</td>\n",
       "      <td>10.300000</td>\n",
       "      <td>4.000000</td>\n",
       "      <td>2.780000</td>\n",
       "      <td>1.000000</td>\n",
       "    </tr>\n",
       "    <tr>\n",
       "      <th>75%</th>\n",
       "      <td>127.000000</td>\n",
       "      <td>510.000000</td>\n",
       "      <td>20.000000</td>\n",
       "      <td>216.400000</td>\n",
       "      <td>114.000000</td>\n",
       "      <td>36.790000</td>\n",
       "      <td>235.300000</td>\n",
       "      <td>114.000000</td>\n",
       "      <td>20.000000</td>\n",
       "      <td>235.300000</td>\n",
       "      <td>113.000000</td>\n",
       "      <td>10.590000</td>\n",
       "      <td>12.100000</td>\n",
       "      <td>6.000000</td>\n",
       "      <td>3.270000</td>\n",
       "      <td>2.000000</td>\n",
       "    </tr>\n",
       "    <tr>\n",
       "      <th>max</th>\n",
       "      <td>243.000000</td>\n",
       "      <td>510.000000</td>\n",
       "      <td>51.000000</td>\n",
       "      <td>350.800000</td>\n",
       "      <td>165.000000</td>\n",
       "      <td>59.640000</td>\n",
       "      <td>363.700000</td>\n",
       "      <td>170.000000</td>\n",
       "      <td>30.910000</td>\n",
       "      <td>395.000000</td>\n",
       "      <td>175.000000</td>\n",
       "      <td>17.770000</td>\n",
       "      <td>20.000000</td>\n",
       "      <td>20.000000</td>\n",
       "      <td>5.400000</td>\n",
       "      <td>9.000000</td>\n",
       "    </tr>\n",
       "  </tbody>\n",
       "</table>\n",
       "</div>"
      ],
      "text/plain": [
       "       account length    area code  number vmail messages  total day minutes  \\\n",
       "count     3333.000000  3333.000000            3333.000000        3333.000000   \n",
       "mean       101.064806   437.182418               8.099010         179.775098   \n",
       "std         39.822106    42.371290              13.688365          54.467389   \n",
       "min          1.000000   408.000000               0.000000           0.000000   \n",
       "25%         74.000000   408.000000               0.000000         143.700000   \n",
       "50%        101.000000   415.000000               0.000000         179.400000   \n",
       "75%        127.000000   510.000000              20.000000         216.400000   \n",
       "max        243.000000   510.000000              51.000000         350.800000   \n",
       "\n",
       "       total day calls  total day charge  total eve minutes  total eve calls  \\\n",
       "count      3333.000000       3333.000000        3333.000000      3333.000000   \n",
       "mean        100.435644         30.562307         200.980348       100.114311   \n",
       "std          20.069084          9.259435          50.713844        19.922625   \n",
       "min           0.000000          0.000000           0.000000         0.000000   \n",
       "25%          87.000000         24.430000         166.600000        87.000000   \n",
       "50%         101.000000         30.500000         201.400000       100.000000   \n",
       "75%         114.000000         36.790000         235.300000       114.000000   \n",
       "max         165.000000         59.640000         363.700000       170.000000   \n",
       "\n",
       "       total eve charge  total night minutes  total night calls  \\\n",
       "count       3333.000000          3333.000000        3333.000000   \n",
       "mean          17.083540           200.872037         100.107711   \n",
       "std            4.310668            50.573847          19.568609   \n",
       "min            0.000000            23.200000          33.000000   \n",
       "25%           14.160000           167.000000          87.000000   \n",
       "50%           17.120000           201.200000         100.000000   \n",
       "75%           20.000000           235.300000         113.000000   \n",
       "max           30.910000           395.000000         175.000000   \n",
       "\n",
       "       total night charge  total intl minutes  total intl calls  \\\n",
       "count         3333.000000         3333.000000       3333.000000   \n",
       "mean             9.039325           10.237294          4.479448   \n",
       "std              2.275873            2.791840          2.461214   \n",
       "min              1.040000            0.000000          0.000000   \n",
       "25%              7.520000            8.500000          3.000000   \n",
       "50%              9.050000           10.300000          4.000000   \n",
       "75%             10.590000           12.100000          6.000000   \n",
       "max             17.770000           20.000000         20.000000   \n",
       "\n",
       "       total intl charge  customer service calls  \n",
       "count        3333.000000             3333.000000  \n",
       "mean            2.764581                1.562856  \n",
       "std             0.753773                1.315491  \n",
       "min             0.000000                0.000000  \n",
       "25%             2.300000                1.000000  \n",
       "50%             2.780000                1.000000  \n",
       "75%             3.270000                2.000000  \n",
       "max             5.400000                9.000000  "
      ]
     },
     "execution_count": 9,
     "metadata": {},
     "output_type": "execute_result"
    }
   ],
   "source": [
    "# Explore the statistical summary\n",
    "dp.read_describe()"
   ]
  },
  {
   "cell_type": "code",
   "execution_count": 10,
   "metadata": {},
   "outputs": [
    {
     "data": {
      "text/html": [
       "<div>\n",
       "<style scoped>\n",
       "    .dataframe tbody tr th:only-of-type {\n",
       "        vertical-align: middle;\n",
       "    }\n",
       "\n",
       "    .dataframe tbody tr th {\n",
       "        vertical-align: top;\n",
       "    }\n",
       "\n",
       "    .dataframe thead th {\n",
       "        text-align: right;\n",
       "    }\n",
       "</style>\n",
       "<table border=\"1\" class=\"dataframe\">\n",
       "  <thead>\n",
       "    <tr style=\"text-align: right;\">\n",
       "      <th></th>\n",
       "      <th>account length</th>\n",
       "      <th>area code</th>\n",
       "      <th>number vmail messages</th>\n",
       "      <th>total day minutes</th>\n",
       "      <th>total day calls</th>\n",
       "      <th>total day charge</th>\n",
       "      <th>total eve minutes</th>\n",
       "      <th>total eve calls</th>\n",
       "      <th>total eve charge</th>\n",
       "      <th>total night minutes</th>\n",
       "      <th>total night calls</th>\n",
       "      <th>total night charge</th>\n",
       "      <th>total intl minutes</th>\n",
       "      <th>total intl calls</th>\n",
       "      <th>total intl charge</th>\n",
       "      <th>customer service calls</th>\n",
       "      <th>churn</th>\n",
       "    </tr>\n",
       "  </thead>\n",
       "  <tbody>\n",
       "    <tr>\n",
       "      <th>account length</th>\n",
       "      <td>1.000000</td>\n",
       "      <td>-0.012463</td>\n",
       "      <td>-0.004628</td>\n",
       "      <td>0.006216</td>\n",
       "      <td>0.038470</td>\n",
       "      <td>0.006214</td>\n",
       "      <td>-0.006757</td>\n",
       "      <td>0.019260</td>\n",
       "      <td>-0.006745</td>\n",
       "      <td>-0.008955</td>\n",
       "      <td>-0.013176</td>\n",
       "      <td>-0.008960</td>\n",
       "      <td>0.009514</td>\n",
       "      <td>0.020661</td>\n",
       "      <td>0.009546</td>\n",
       "      <td>-0.003796</td>\n",
       "      <td>0.016541</td>\n",
       "    </tr>\n",
       "    <tr>\n",
       "      <th>area code</th>\n",
       "      <td>-0.012463</td>\n",
       "      <td>1.000000</td>\n",
       "      <td>-0.001994</td>\n",
       "      <td>-0.008264</td>\n",
       "      <td>-0.009646</td>\n",
       "      <td>-0.008264</td>\n",
       "      <td>0.003580</td>\n",
       "      <td>-0.011886</td>\n",
       "      <td>0.003607</td>\n",
       "      <td>-0.005825</td>\n",
       "      <td>0.016522</td>\n",
       "      <td>-0.005845</td>\n",
       "      <td>-0.018288</td>\n",
       "      <td>-0.024179</td>\n",
       "      <td>-0.018395</td>\n",
       "      <td>0.027572</td>\n",
       "      <td>0.006174</td>\n",
       "    </tr>\n",
       "    <tr>\n",
       "      <th>number vmail messages</th>\n",
       "      <td>-0.004628</td>\n",
       "      <td>-0.001994</td>\n",
       "      <td>1.000000</td>\n",
       "      <td>0.000778</td>\n",
       "      <td>-0.009548</td>\n",
       "      <td>0.000776</td>\n",
       "      <td>0.017562</td>\n",
       "      <td>-0.005864</td>\n",
       "      <td>0.017578</td>\n",
       "      <td>0.007681</td>\n",
       "      <td>0.007123</td>\n",
       "      <td>0.007663</td>\n",
       "      <td>0.002856</td>\n",
       "      <td>0.013957</td>\n",
       "      <td>0.002884</td>\n",
       "      <td>-0.013263</td>\n",
       "      <td>-0.089728</td>\n",
       "    </tr>\n",
       "    <tr>\n",
       "      <th>total day minutes</th>\n",
       "      <td>0.006216</td>\n",
       "      <td>-0.008264</td>\n",
       "      <td>0.000778</td>\n",
       "      <td>1.000000</td>\n",
       "      <td>0.006750</td>\n",
       "      <td>1.000000</td>\n",
       "      <td>0.007043</td>\n",
       "      <td>0.015769</td>\n",
       "      <td>0.007029</td>\n",
       "      <td>0.004323</td>\n",
       "      <td>0.022972</td>\n",
       "      <td>0.004300</td>\n",
       "      <td>-0.010155</td>\n",
       "      <td>0.008033</td>\n",
       "      <td>-0.010092</td>\n",
       "      <td>-0.013423</td>\n",
       "      <td>0.205151</td>\n",
       "    </tr>\n",
       "    <tr>\n",
       "      <th>total day calls</th>\n",
       "      <td>0.038470</td>\n",
       "      <td>-0.009646</td>\n",
       "      <td>-0.009548</td>\n",
       "      <td>0.006750</td>\n",
       "      <td>1.000000</td>\n",
       "      <td>0.006753</td>\n",
       "      <td>-0.021451</td>\n",
       "      <td>0.006462</td>\n",
       "      <td>-0.021449</td>\n",
       "      <td>0.022938</td>\n",
       "      <td>-0.019557</td>\n",
       "      <td>0.022927</td>\n",
       "      <td>0.021565</td>\n",
       "      <td>0.004574</td>\n",
       "      <td>0.021666</td>\n",
       "      <td>-0.018942</td>\n",
       "      <td>0.018459</td>\n",
       "    </tr>\n",
       "    <tr>\n",
       "      <th>total day charge</th>\n",
       "      <td>0.006214</td>\n",
       "      <td>-0.008264</td>\n",
       "      <td>0.000776</td>\n",
       "      <td>1.000000</td>\n",
       "      <td>0.006753</td>\n",
       "      <td>1.000000</td>\n",
       "      <td>0.007050</td>\n",
       "      <td>0.015769</td>\n",
       "      <td>0.007036</td>\n",
       "      <td>0.004324</td>\n",
       "      <td>0.022972</td>\n",
       "      <td>0.004301</td>\n",
       "      <td>-0.010157</td>\n",
       "      <td>0.008032</td>\n",
       "      <td>-0.010094</td>\n",
       "      <td>-0.013427</td>\n",
       "      <td>0.205151</td>\n",
       "    </tr>\n",
       "    <tr>\n",
       "      <th>total eve minutes</th>\n",
       "      <td>-0.006757</td>\n",
       "      <td>0.003580</td>\n",
       "      <td>0.017562</td>\n",
       "      <td>0.007043</td>\n",
       "      <td>-0.021451</td>\n",
       "      <td>0.007050</td>\n",
       "      <td>1.000000</td>\n",
       "      <td>-0.011430</td>\n",
       "      <td>1.000000</td>\n",
       "      <td>-0.012584</td>\n",
       "      <td>0.007586</td>\n",
       "      <td>-0.012593</td>\n",
       "      <td>-0.011035</td>\n",
       "      <td>0.002541</td>\n",
       "      <td>-0.011067</td>\n",
       "      <td>-0.012985</td>\n",
       "      <td>0.092796</td>\n",
       "    </tr>\n",
       "    <tr>\n",
       "      <th>total eve calls</th>\n",
       "      <td>0.019260</td>\n",
       "      <td>-0.011886</td>\n",
       "      <td>-0.005864</td>\n",
       "      <td>0.015769</td>\n",
       "      <td>0.006462</td>\n",
       "      <td>0.015769</td>\n",
       "      <td>-0.011430</td>\n",
       "      <td>1.000000</td>\n",
       "      <td>-0.011423</td>\n",
       "      <td>-0.002093</td>\n",
       "      <td>0.007710</td>\n",
       "      <td>-0.002056</td>\n",
       "      <td>0.008703</td>\n",
       "      <td>0.017434</td>\n",
       "      <td>0.008674</td>\n",
       "      <td>0.002423</td>\n",
       "      <td>0.009233</td>\n",
       "    </tr>\n",
       "    <tr>\n",
       "      <th>total eve charge</th>\n",
       "      <td>-0.006745</td>\n",
       "      <td>0.003607</td>\n",
       "      <td>0.017578</td>\n",
       "      <td>0.007029</td>\n",
       "      <td>-0.021449</td>\n",
       "      <td>0.007036</td>\n",
       "      <td>1.000000</td>\n",
       "      <td>-0.011423</td>\n",
       "      <td>1.000000</td>\n",
       "      <td>-0.012592</td>\n",
       "      <td>0.007596</td>\n",
       "      <td>-0.012601</td>\n",
       "      <td>-0.011043</td>\n",
       "      <td>0.002541</td>\n",
       "      <td>-0.011074</td>\n",
       "      <td>-0.012987</td>\n",
       "      <td>0.092786</td>\n",
       "    </tr>\n",
       "    <tr>\n",
       "      <th>total night minutes</th>\n",
       "      <td>-0.008955</td>\n",
       "      <td>-0.005825</td>\n",
       "      <td>0.007681</td>\n",
       "      <td>0.004323</td>\n",
       "      <td>0.022938</td>\n",
       "      <td>0.004324</td>\n",
       "      <td>-0.012584</td>\n",
       "      <td>-0.002093</td>\n",
       "      <td>-0.012592</td>\n",
       "      <td>1.000000</td>\n",
       "      <td>0.011204</td>\n",
       "      <td>0.999999</td>\n",
       "      <td>-0.015207</td>\n",
       "      <td>-0.012353</td>\n",
       "      <td>-0.015180</td>\n",
       "      <td>-0.009288</td>\n",
       "      <td>0.035493</td>\n",
       "    </tr>\n",
       "    <tr>\n",
       "      <th>total night calls</th>\n",
       "      <td>-0.013176</td>\n",
       "      <td>0.016522</td>\n",
       "      <td>0.007123</td>\n",
       "      <td>0.022972</td>\n",
       "      <td>-0.019557</td>\n",
       "      <td>0.022972</td>\n",
       "      <td>0.007586</td>\n",
       "      <td>0.007710</td>\n",
       "      <td>0.007596</td>\n",
       "      <td>0.011204</td>\n",
       "      <td>1.000000</td>\n",
       "      <td>0.011188</td>\n",
       "      <td>-0.013605</td>\n",
       "      <td>0.000305</td>\n",
       "      <td>-0.013630</td>\n",
       "      <td>-0.012802</td>\n",
       "      <td>0.006141</td>\n",
       "    </tr>\n",
       "    <tr>\n",
       "      <th>total night charge</th>\n",
       "      <td>-0.008960</td>\n",
       "      <td>-0.005845</td>\n",
       "      <td>0.007663</td>\n",
       "      <td>0.004300</td>\n",
       "      <td>0.022927</td>\n",
       "      <td>0.004301</td>\n",
       "      <td>-0.012593</td>\n",
       "      <td>-0.002056</td>\n",
       "      <td>-0.012601</td>\n",
       "      <td>0.999999</td>\n",
       "      <td>0.011188</td>\n",
       "      <td>1.000000</td>\n",
       "      <td>-0.015214</td>\n",
       "      <td>-0.012329</td>\n",
       "      <td>-0.015186</td>\n",
       "      <td>-0.009277</td>\n",
       "      <td>0.035496</td>\n",
       "    </tr>\n",
       "    <tr>\n",
       "      <th>total intl minutes</th>\n",
       "      <td>0.009514</td>\n",
       "      <td>-0.018288</td>\n",
       "      <td>0.002856</td>\n",
       "      <td>-0.010155</td>\n",
       "      <td>0.021565</td>\n",
       "      <td>-0.010157</td>\n",
       "      <td>-0.011035</td>\n",
       "      <td>0.008703</td>\n",
       "      <td>-0.011043</td>\n",
       "      <td>-0.015207</td>\n",
       "      <td>-0.013605</td>\n",
       "      <td>-0.015214</td>\n",
       "      <td>1.000000</td>\n",
       "      <td>0.032304</td>\n",
       "      <td>0.999993</td>\n",
       "      <td>-0.009640</td>\n",
       "      <td>0.068239</td>\n",
       "    </tr>\n",
       "    <tr>\n",
       "      <th>total intl calls</th>\n",
       "      <td>0.020661</td>\n",
       "      <td>-0.024179</td>\n",
       "      <td>0.013957</td>\n",
       "      <td>0.008033</td>\n",
       "      <td>0.004574</td>\n",
       "      <td>0.008032</td>\n",
       "      <td>0.002541</td>\n",
       "      <td>0.017434</td>\n",
       "      <td>0.002541</td>\n",
       "      <td>-0.012353</td>\n",
       "      <td>0.000305</td>\n",
       "      <td>-0.012329</td>\n",
       "      <td>0.032304</td>\n",
       "      <td>1.000000</td>\n",
       "      <td>0.032372</td>\n",
       "      <td>-0.017561</td>\n",
       "      <td>-0.052844</td>\n",
       "    </tr>\n",
       "    <tr>\n",
       "      <th>total intl charge</th>\n",
       "      <td>0.009546</td>\n",
       "      <td>-0.018395</td>\n",
       "      <td>0.002884</td>\n",
       "      <td>-0.010092</td>\n",
       "      <td>0.021666</td>\n",
       "      <td>-0.010094</td>\n",
       "      <td>-0.011067</td>\n",
       "      <td>0.008674</td>\n",
       "      <td>-0.011074</td>\n",
       "      <td>-0.015180</td>\n",
       "      <td>-0.013630</td>\n",
       "      <td>-0.015186</td>\n",
       "      <td>0.999993</td>\n",
       "      <td>0.032372</td>\n",
       "      <td>1.000000</td>\n",
       "      <td>-0.009675</td>\n",
       "      <td>0.068259</td>\n",
       "    </tr>\n",
       "    <tr>\n",
       "      <th>customer service calls</th>\n",
       "      <td>-0.003796</td>\n",
       "      <td>0.027572</td>\n",
       "      <td>-0.013263</td>\n",
       "      <td>-0.013423</td>\n",
       "      <td>-0.018942</td>\n",
       "      <td>-0.013427</td>\n",
       "      <td>-0.012985</td>\n",
       "      <td>0.002423</td>\n",
       "      <td>-0.012987</td>\n",
       "      <td>-0.009288</td>\n",
       "      <td>-0.012802</td>\n",
       "      <td>-0.009277</td>\n",
       "      <td>-0.009640</td>\n",
       "      <td>-0.017561</td>\n",
       "      <td>-0.009675</td>\n",
       "      <td>1.000000</td>\n",
       "      <td>0.208750</td>\n",
       "    </tr>\n",
       "    <tr>\n",
       "      <th>churn</th>\n",
       "      <td>0.016541</td>\n",
       "      <td>0.006174</td>\n",
       "      <td>-0.089728</td>\n",
       "      <td>0.205151</td>\n",
       "      <td>0.018459</td>\n",
       "      <td>0.205151</td>\n",
       "      <td>0.092796</td>\n",
       "      <td>0.009233</td>\n",
       "      <td>0.092786</td>\n",
       "      <td>0.035493</td>\n",
       "      <td>0.006141</td>\n",
       "      <td>0.035496</td>\n",
       "      <td>0.068239</td>\n",
       "      <td>-0.052844</td>\n",
       "      <td>0.068259</td>\n",
       "      <td>0.208750</td>\n",
       "      <td>1.000000</td>\n",
       "    </tr>\n",
       "  </tbody>\n",
       "</table>\n",
       "</div>"
      ],
      "text/plain": [
       "                        account length  area code  number vmail messages  \\\n",
       "account length                1.000000  -0.012463              -0.004628   \n",
       "area code                    -0.012463   1.000000              -0.001994   \n",
       "number vmail messages        -0.004628  -0.001994               1.000000   \n",
       "total day minutes             0.006216  -0.008264               0.000778   \n",
       "total day calls               0.038470  -0.009646              -0.009548   \n",
       "total day charge              0.006214  -0.008264               0.000776   \n",
       "total eve minutes            -0.006757   0.003580               0.017562   \n",
       "total eve calls               0.019260  -0.011886              -0.005864   \n",
       "total eve charge             -0.006745   0.003607               0.017578   \n",
       "total night minutes          -0.008955  -0.005825               0.007681   \n",
       "total night calls            -0.013176   0.016522               0.007123   \n",
       "total night charge           -0.008960  -0.005845               0.007663   \n",
       "total intl minutes            0.009514  -0.018288               0.002856   \n",
       "total intl calls              0.020661  -0.024179               0.013957   \n",
       "total intl charge             0.009546  -0.018395               0.002884   \n",
       "customer service calls       -0.003796   0.027572              -0.013263   \n",
       "churn                         0.016541   0.006174              -0.089728   \n",
       "\n",
       "                        total day minutes  total day calls  total day charge  \\\n",
       "account length                   0.006216         0.038470          0.006214   \n",
       "area code                       -0.008264        -0.009646         -0.008264   \n",
       "number vmail messages            0.000778        -0.009548          0.000776   \n",
       "total day minutes                1.000000         0.006750          1.000000   \n",
       "total day calls                  0.006750         1.000000          0.006753   \n",
       "total day charge                 1.000000         0.006753          1.000000   \n",
       "total eve minutes                0.007043        -0.021451          0.007050   \n",
       "total eve calls                  0.015769         0.006462          0.015769   \n",
       "total eve charge                 0.007029        -0.021449          0.007036   \n",
       "total night minutes              0.004323         0.022938          0.004324   \n",
       "total night calls                0.022972        -0.019557          0.022972   \n",
       "total night charge               0.004300         0.022927          0.004301   \n",
       "total intl minutes              -0.010155         0.021565         -0.010157   \n",
       "total intl calls                 0.008033         0.004574          0.008032   \n",
       "total intl charge               -0.010092         0.021666         -0.010094   \n",
       "customer service calls          -0.013423        -0.018942         -0.013427   \n",
       "churn                            0.205151         0.018459          0.205151   \n",
       "\n",
       "                        total eve minutes  total eve calls  total eve charge  \\\n",
       "account length                  -0.006757         0.019260         -0.006745   \n",
       "area code                        0.003580        -0.011886          0.003607   \n",
       "number vmail messages            0.017562        -0.005864          0.017578   \n",
       "total day minutes                0.007043         0.015769          0.007029   \n",
       "total day calls                 -0.021451         0.006462         -0.021449   \n",
       "total day charge                 0.007050         0.015769          0.007036   \n",
       "total eve minutes                1.000000        -0.011430          1.000000   \n",
       "total eve calls                 -0.011430         1.000000         -0.011423   \n",
       "total eve charge                 1.000000        -0.011423          1.000000   \n",
       "total night minutes             -0.012584        -0.002093         -0.012592   \n",
       "total night calls                0.007586         0.007710          0.007596   \n",
       "total night charge              -0.012593        -0.002056         -0.012601   \n",
       "total intl minutes              -0.011035         0.008703         -0.011043   \n",
       "total intl calls                 0.002541         0.017434          0.002541   \n",
       "total intl charge               -0.011067         0.008674         -0.011074   \n",
       "customer service calls          -0.012985         0.002423         -0.012987   \n",
       "churn                            0.092796         0.009233          0.092786   \n",
       "\n",
       "                        total night minutes  total night calls  \\\n",
       "account length                    -0.008955          -0.013176   \n",
       "area code                         -0.005825           0.016522   \n",
       "number vmail messages              0.007681           0.007123   \n",
       "total day minutes                  0.004323           0.022972   \n",
       "total day calls                    0.022938          -0.019557   \n",
       "total day charge                   0.004324           0.022972   \n",
       "total eve minutes                 -0.012584           0.007586   \n",
       "total eve calls                   -0.002093           0.007710   \n",
       "total eve charge                  -0.012592           0.007596   \n",
       "total night minutes                1.000000           0.011204   \n",
       "total night calls                  0.011204           1.000000   \n",
       "total night charge                 0.999999           0.011188   \n",
       "total intl minutes                -0.015207          -0.013605   \n",
       "total intl calls                  -0.012353           0.000305   \n",
       "total intl charge                 -0.015180          -0.013630   \n",
       "customer service calls            -0.009288          -0.012802   \n",
       "churn                              0.035493           0.006141   \n",
       "\n",
       "                        total night charge  total intl minutes  \\\n",
       "account length                   -0.008960            0.009514   \n",
       "area code                        -0.005845           -0.018288   \n",
       "number vmail messages             0.007663            0.002856   \n",
       "total day minutes                 0.004300           -0.010155   \n",
       "total day calls                   0.022927            0.021565   \n",
       "total day charge                  0.004301           -0.010157   \n",
       "total eve minutes                -0.012593           -0.011035   \n",
       "total eve calls                  -0.002056            0.008703   \n",
       "total eve charge                 -0.012601           -0.011043   \n",
       "total night minutes               0.999999           -0.015207   \n",
       "total night calls                 0.011188           -0.013605   \n",
       "total night charge                1.000000           -0.015214   \n",
       "total intl minutes               -0.015214            1.000000   \n",
       "total intl calls                 -0.012329            0.032304   \n",
       "total intl charge                -0.015186            0.999993   \n",
       "customer service calls           -0.009277           -0.009640   \n",
       "churn                             0.035496            0.068239   \n",
       "\n",
       "                        total intl calls  total intl charge  \\\n",
       "account length                  0.020661           0.009546   \n",
       "area code                      -0.024179          -0.018395   \n",
       "number vmail messages           0.013957           0.002884   \n",
       "total day minutes               0.008033          -0.010092   \n",
       "total day calls                 0.004574           0.021666   \n",
       "total day charge                0.008032          -0.010094   \n",
       "total eve minutes               0.002541          -0.011067   \n",
       "total eve calls                 0.017434           0.008674   \n",
       "total eve charge                0.002541          -0.011074   \n",
       "total night minutes            -0.012353          -0.015180   \n",
       "total night calls               0.000305          -0.013630   \n",
       "total night charge             -0.012329          -0.015186   \n",
       "total intl minutes              0.032304           0.999993   \n",
       "total intl calls                1.000000           0.032372   \n",
       "total intl charge               0.032372           1.000000   \n",
       "customer service calls         -0.017561          -0.009675   \n",
       "churn                          -0.052844           0.068259   \n",
       "\n",
       "                        customer service calls     churn  \n",
       "account length                       -0.003796  0.016541  \n",
       "area code                             0.027572  0.006174  \n",
       "number vmail messages                -0.013263 -0.089728  \n",
       "total day minutes                    -0.013423  0.205151  \n",
       "total day calls                      -0.018942  0.018459  \n",
       "total day charge                     -0.013427  0.205151  \n",
       "total eve minutes                    -0.012985  0.092796  \n",
       "total eve calls                       0.002423  0.009233  \n",
       "total eve charge                     -0.012987  0.092786  \n",
       "total night minutes                  -0.009288  0.035493  \n",
       "total night calls                    -0.012802  0.006141  \n",
       "total night charge                   -0.009277  0.035496  \n",
       "total intl minutes                   -0.009640  0.068239  \n",
       "total intl calls                     -0.017561 -0.052844  \n",
       "total intl charge                    -0.009675  0.068259  \n",
       "customer service calls                1.000000  0.208750  \n",
       "churn                                 0.208750  1.000000  "
      ]
     },
     "execution_count": 10,
     "metadata": {},
     "output_type": "execute_result"
    }
   ],
   "source": [
    "# Explore any correlations\n",
    "dp.read_corr()"
   ]
  },
  {
   "cell_type": "code",
   "execution_count": 11,
   "metadata": {},
   "outputs": [
    {
     "data": {
      "text/html": [
       "<div>\n",
       "<style scoped>\n",
       "    .dataframe tbody tr th:only-of-type {\n",
       "        vertical-align: middle;\n",
       "    }\n",
       "\n",
       "    .dataframe tbody tr th {\n",
       "        vertical-align: top;\n",
       "    }\n",
       "\n",
       "    .dataframe thead th {\n",
       "        text-align: right;\n",
       "    }\n",
       "</style>\n",
       "<table border=\"1\" class=\"dataframe\">\n",
       "  <thead>\n",
       "    <tr style=\"text-align: right;\">\n",
       "      <th></th>\n",
       "      <th>account length</th>\n",
       "      <th>area code</th>\n",
       "      <th>number vmail messages</th>\n",
       "      <th>total day minutes</th>\n",
       "      <th>total day calls</th>\n",
       "      <th>total day charge</th>\n",
       "      <th>total eve minutes</th>\n",
       "      <th>total eve calls</th>\n",
       "      <th>total eve charge</th>\n",
       "      <th>total night minutes</th>\n",
       "      <th>total night calls</th>\n",
       "      <th>total night charge</th>\n",
       "      <th>total intl minutes</th>\n",
       "      <th>total intl calls</th>\n",
       "      <th>total intl charge</th>\n",
       "      <th>customer service calls</th>\n",
       "    </tr>\n",
       "  </thead>\n",
       "  <tbody>\n",
       "    <tr>\n",
       "      <th>account length</th>\n",
       "      <td>1.000000</td>\n",
       "      <td>-0.012463</td>\n",
       "      <td>-0.004628</td>\n",
       "      <td>0.006216</td>\n",
       "      <td>0.038470</td>\n",
       "      <td>0.006214</td>\n",
       "      <td>-0.006757</td>\n",
       "      <td>0.019260</td>\n",
       "      <td>-0.006745</td>\n",
       "      <td>-0.008955</td>\n",
       "      <td>-0.013176</td>\n",
       "      <td>-0.008960</td>\n",
       "      <td>0.009514</td>\n",
       "      <td>0.020661</td>\n",
       "      <td>0.009546</td>\n",
       "      <td>-0.003796</td>\n",
       "    </tr>\n",
       "    <tr>\n",
       "      <th>area code</th>\n",
       "      <td>-0.012463</td>\n",
       "      <td>1.000000</td>\n",
       "      <td>-0.001994</td>\n",
       "      <td>-0.008264</td>\n",
       "      <td>-0.009646</td>\n",
       "      <td>-0.008264</td>\n",
       "      <td>0.003580</td>\n",
       "      <td>-0.011886</td>\n",
       "      <td>0.003607</td>\n",
       "      <td>-0.005825</td>\n",
       "      <td>0.016522</td>\n",
       "      <td>-0.005845</td>\n",
       "      <td>-0.018288</td>\n",
       "      <td>-0.024179</td>\n",
       "      <td>-0.018395</td>\n",
       "      <td>0.027572</td>\n",
       "    </tr>\n",
       "    <tr>\n",
       "      <th>number vmail messages</th>\n",
       "      <td>-0.004628</td>\n",
       "      <td>-0.001994</td>\n",
       "      <td>1.000000</td>\n",
       "      <td>0.000778</td>\n",
       "      <td>-0.009548</td>\n",
       "      <td>0.000776</td>\n",
       "      <td>0.017562</td>\n",
       "      <td>-0.005864</td>\n",
       "      <td>0.017578</td>\n",
       "      <td>0.007681</td>\n",
       "      <td>0.007123</td>\n",
       "      <td>0.007663</td>\n",
       "      <td>0.002856</td>\n",
       "      <td>0.013957</td>\n",
       "      <td>0.002884</td>\n",
       "      <td>-0.013263</td>\n",
       "    </tr>\n",
       "    <tr>\n",
       "      <th>total day minutes</th>\n",
       "      <td>0.006216</td>\n",
       "      <td>-0.008264</td>\n",
       "      <td>0.000778</td>\n",
       "      <td>1.000000</td>\n",
       "      <td>0.006750</td>\n",
       "      <td>1.000000</td>\n",
       "      <td>0.007043</td>\n",
       "      <td>0.015769</td>\n",
       "      <td>0.007029</td>\n",
       "      <td>0.004323</td>\n",
       "      <td>0.022972</td>\n",
       "      <td>0.004300</td>\n",
       "      <td>-0.010155</td>\n",
       "      <td>0.008033</td>\n",
       "      <td>-0.010092</td>\n",
       "      <td>-0.013423</td>\n",
       "    </tr>\n",
       "    <tr>\n",
       "      <th>total day calls</th>\n",
       "      <td>0.038470</td>\n",
       "      <td>-0.009646</td>\n",
       "      <td>-0.009548</td>\n",
       "      <td>0.006750</td>\n",
       "      <td>1.000000</td>\n",
       "      <td>0.006753</td>\n",
       "      <td>-0.021451</td>\n",
       "      <td>0.006462</td>\n",
       "      <td>-0.021449</td>\n",
       "      <td>0.022938</td>\n",
       "      <td>-0.019557</td>\n",
       "      <td>0.022927</td>\n",
       "      <td>0.021565</td>\n",
       "      <td>0.004574</td>\n",
       "      <td>0.021666</td>\n",
       "      <td>-0.018942</td>\n",
       "    </tr>\n",
       "    <tr>\n",
       "      <th>total day charge</th>\n",
       "      <td>0.006214</td>\n",
       "      <td>-0.008264</td>\n",
       "      <td>0.000776</td>\n",
       "      <td>1.000000</td>\n",
       "      <td>0.006753</td>\n",
       "      <td>1.000000</td>\n",
       "      <td>0.007050</td>\n",
       "      <td>0.015769</td>\n",
       "      <td>0.007036</td>\n",
       "      <td>0.004324</td>\n",
       "      <td>0.022972</td>\n",
       "      <td>0.004301</td>\n",
       "      <td>-0.010157</td>\n",
       "      <td>0.008032</td>\n",
       "      <td>-0.010094</td>\n",
       "      <td>-0.013427</td>\n",
       "    </tr>\n",
       "    <tr>\n",
       "      <th>total eve minutes</th>\n",
       "      <td>-0.006757</td>\n",
       "      <td>0.003580</td>\n",
       "      <td>0.017562</td>\n",
       "      <td>0.007043</td>\n",
       "      <td>-0.021451</td>\n",
       "      <td>0.007050</td>\n",
       "      <td>1.000000</td>\n",
       "      <td>-0.011430</td>\n",
       "      <td>1.000000</td>\n",
       "      <td>-0.012584</td>\n",
       "      <td>0.007586</td>\n",
       "      <td>-0.012593</td>\n",
       "      <td>-0.011035</td>\n",
       "      <td>0.002541</td>\n",
       "      <td>-0.011067</td>\n",
       "      <td>-0.012985</td>\n",
       "    </tr>\n",
       "    <tr>\n",
       "      <th>total eve calls</th>\n",
       "      <td>0.019260</td>\n",
       "      <td>-0.011886</td>\n",
       "      <td>-0.005864</td>\n",
       "      <td>0.015769</td>\n",
       "      <td>0.006462</td>\n",
       "      <td>0.015769</td>\n",
       "      <td>-0.011430</td>\n",
       "      <td>1.000000</td>\n",
       "      <td>-0.011423</td>\n",
       "      <td>-0.002093</td>\n",
       "      <td>0.007710</td>\n",
       "      <td>-0.002056</td>\n",
       "      <td>0.008703</td>\n",
       "      <td>0.017434</td>\n",
       "      <td>0.008674</td>\n",
       "      <td>0.002423</td>\n",
       "    </tr>\n",
       "    <tr>\n",
       "      <th>total eve charge</th>\n",
       "      <td>-0.006745</td>\n",
       "      <td>0.003607</td>\n",
       "      <td>0.017578</td>\n",
       "      <td>0.007029</td>\n",
       "      <td>-0.021449</td>\n",
       "      <td>0.007036</td>\n",
       "      <td>1.000000</td>\n",
       "      <td>-0.011423</td>\n",
       "      <td>1.000000</td>\n",
       "      <td>-0.012592</td>\n",
       "      <td>0.007596</td>\n",
       "      <td>-0.012601</td>\n",
       "      <td>-0.011043</td>\n",
       "      <td>0.002541</td>\n",
       "      <td>-0.011074</td>\n",
       "      <td>-0.012987</td>\n",
       "    </tr>\n",
       "    <tr>\n",
       "      <th>total night minutes</th>\n",
       "      <td>-0.008955</td>\n",
       "      <td>-0.005825</td>\n",
       "      <td>0.007681</td>\n",
       "      <td>0.004323</td>\n",
       "      <td>0.022938</td>\n",
       "      <td>0.004324</td>\n",
       "      <td>-0.012584</td>\n",
       "      <td>-0.002093</td>\n",
       "      <td>-0.012592</td>\n",
       "      <td>1.000000</td>\n",
       "      <td>0.011204</td>\n",
       "      <td>0.999999</td>\n",
       "      <td>-0.015207</td>\n",
       "      <td>-0.012353</td>\n",
       "      <td>-0.015180</td>\n",
       "      <td>-0.009288</td>\n",
       "    </tr>\n",
       "    <tr>\n",
       "      <th>total night calls</th>\n",
       "      <td>-0.013176</td>\n",
       "      <td>0.016522</td>\n",
       "      <td>0.007123</td>\n",
       "      <td>0.022972</td>\n",
       "      <td>-0.019557</td>\n",
       "      <td>0.022972</td>\n",
       "      <td>0.007586</td>\n",
       "      <td>0.007710</td>\n",
       "      <td>0.007596</td>\n",
       "      <td>0.011204</td>\n",
       "      <td>1.000000</td>\n",
       "      <td>0.011188</td>\n",
       "      <td>-0.013605</td>\n",
       "      <td>0.000305</td>\n",
       "      <td>-0.013630</td>\n",
       "      <td>-0.012802</td>\n",
       "    </tr>\n",
       "    <tr>\n",
       "      <th>total night charge</th>\n",
       "      <td>-0.008960</td>\n",
       "      <td>-0.005845</td>\n",
       "      <td>0.007663</td>\n",
       "      <td>0.004300</td>\n",
       "      <td>0.022927</td>\n",
       "      <td>0.004301</td>\n",
       "      <td>-0.012593</td>\n",
       "      <td>-0.002056</td>\n",
       "      <td>-0.012601</td>\n",
       "      <td>0.999999</td>\n",
       "      <td>0.011188</td>\n",
       "      <td>1.000000</td>\n",
       "      <td>-0.015214</td>\n",
       "      <td>-0.012329</td>\n",
       "      <td>-0.015186</td>\n",
       "      <td>-0.009277</td>\n",
       "    </tr>\n",
       "    <tr>\n",
       "      <th>total intl minutes</th>\n",
       "      <td>0.009514</td>\n",
       "      <td>-0.018288</td>\n",
       "      <td>0.002856</td>\n",
       "      <td>-0.010155</td>\n",
       "      <td>0.021565</td>\n",
       "      <td>-0.010157</td>\n",
       "      <td>-0.011035</td>\n",
       "      <td>0.008703</td>\n",
       "      <td>-0.011043</td>\n",
       "      <td>-0.015207</td>\n",
       "      <td>-0.013605</td>\n",
       "      <td>-0.015214</td>\n",
       "      <td>1.000000</td>\n",
       "      <td>0.032304</td>\n",
       "      <td>0.999993</td>\n",
       "      <td>-0.009640</td>\n",
       "    </tr>\n",
       "    <tr>\n",
       "      <th>total intl calls</th>\n",
       "      <td>0.020661</td>\n",
       "      <td>-0.024179</td>\n",
       "      <td>0.013957</td>\n",
       "      <td>0.008033</td>\n",
       "      <td>0.004574</td>\n",
       "      <td>0.008032</td>\n",
       "      <td>0.002541</td>\n",
       "      <td>0.017434</td>\n",
       "      <td>0.002541</td>\n",
       "      <td>-0.012353</td>\n",
       "      <td>0.000305</td>\n",
       "      <td>-0.012329</td>\n",
       "      <td>0.032304</td>\n",
       "      <td>1.000000</td>\n",
       "      <td>0.032372</td>\n",
       "      <td>-0.017561</td>\n",
       "    </tr>\n",
       "    <tr>\n",
       "      <th>total intl charge</th>\n",
       "      <td>0.009546</td>\n",
       "      <td>-0.018395</td>\n",
       "      <td>0.002884</td>\n",
       "      <td>-0.010092</td>\n",
       "      <td>0.021666</td>\n",
       "      <td>-0.010094</td>\n",
       "      <td>-0.011067</td>\n",
       "      <td>0.008674</td>\n",
       "      <td>-0.011074</td>\n",
       "      <td>-0.015180</td>\n",
       "      <td>-0.013630</td>\n",
       "      <td>-0.015186</td>\n",
       "      <td>0.999993</td>\n",
       "      <td>0.032372</td>\n",
       "      <td>1.000000</td>\n",
       "      <td>-0.009675</td>\n",
       "    </tr>\n",
       "    <tr>\n",
       "      <th>customer service calls</th>\n",
       "      <td>-0.003796</td>\n",
       "      <td>0.027572</td>\n",
       "      <td>-0.013263</td>\n",
       "      <td>-0.013423</td>\n",
       "      <td>-0.018942</td>\n",
       "      <td>-0.013427</td>\n",
       "      <td>-0.012985</td>\n",
       "      <td>0.002423</td>\n",
       "      <td>-0.012987</td>\n",
       "      <td>-0.009288</td>\n",
       "      <td>-0.012802</td>\n",
       "      <td>-0.009277</td>\n",
       "      <td>-0.009640</td>\n",
       "      <td>-0.017561</td>\n",
       "      <td>-0.009675</td>\n",
       "      <td>1.000000</td>\n",
       "    </tr>\n",
       "  </tbody>\n",
       "</table>\n",
       "</div>"
      ],
      "text/plain": [
       "                        account length  area code  number vmail messages  \\\n",
       "account length                1.000000  -0.012463              -0.004628   \n",
       "area code                    -0.012463   1.000000              -0.001994   \n",
       "number vmail messages        -0.004628  -0.001994               1.000000   \n",
       "total day minutes             0.006216  -0.008264               0.000778   \n",
       "total day calls               0.038470  -0.009646              -0.009548   \n",
       "total day charge              0.006214  -0.008264               0.000776   \n",
       "total eve minutes            -0.006757   0.003580               0.017562   \n",
       "total eve calls               0.019260  -0.011886              -0.005864   \n",
       "total eve charge             -0.006745   0.003607               0.017578   \n",
       "total night minutes          -0.008955  -0.005825               0.007681   \n",
       "total night calls            -0.013176   0.016522               0.007123   \n",
       "total night charge           -0.008960  -0.005845               0.007663   \n",
       "total intl minutes            0.009514  -0.018288               0.002856   \n",
       "total intl calls              0.020661  -0.024179               0.013957   \n",
       "total intl charge             0.009546  -0.018395               0.002884   \n",
       "customer service calls       -0.003796   0.027572              -0.013263   \n",
       "\n",
       "                        total day minutes  total day calls  total day charge  \\\n",
       "account length                   0.006216         0.038470          0.006214   \n",
       "area code                       -0.008264        -0.009646         -0.008264   \n",
       "number vmail messages            0.000778        -0.009548          0.000776   \n",
       "total day minutes                1.000000         0.006750          1.000000   \n",
       "total day calls                  0.006750         1.000000          0.006753   \n",
       "total day charge                 1.000000         0.006753          1.000000   \n",
       "total eve minutes                0.007043        -0.021451          0.007050   \n",
       "total eve calls                  0.015769         0.006462          0.015769   \n",
       "total eve charge                 0.007029        -0.021449          0.007036   \n",
       "total night minutes              0.004323         0.022938          0.004324   \n",
       "total night calls                0.022972        -0.019557          0.022972   \n",
       "total night charge               0.004300         0.022927          0.004301   \n",
       "total intl minutes              -0.010155         0.021565         -0.010157   \n",
       "total intl calls                 0.008033         0.004574          0.008032   \n",
       "total intl charge               -0.010092         0.021666         -0.010094   \n",
       "customer service calls          -0.013423        -0.018942         -0.013427   \n",
       "\n",
       "                        total eve minutes  total eve calls  total eve charge  \\\n",
       "account length                  -0.006757         0.019260         -0.006745   \n",
       "area code                        0.003580        -0.011886          0.003607   \n",
       "number vmail messages            0.017562        -0.005864          0.017578   \n",
       "total day minutes                0.007043         0.015769          0.007029   \n",
       "total day calls                 -0.021451         0.006462         -0.021449   \n",
       "total day charge                 0.007050         0.015769          0.007036   \n",
       "total eve minutes                1.000000        -0.011430          1.000000   \n",
       "total eve calls                 -0.011430         1.000000         -0.011423   \n",
       "total eve charge                 1.000000        -0.011423          1.000000   \n",
       "total night minutes             -0.012584        -0.002093         -0.012592   \n",
       "total night calls                0.007586         0.007710          0.007596   \n",
       "total night charge              -0.012593        -0.002056         -0.012601   \n",
       "total intl minutes              -0.011035         0.008703         -0.011043   \n",
       "total intl calls                 0.002541         0.017434          0.002541   \n",
       "total intl charge               -0.011067         0.008674         -0.011074   \n",
       "customer service calls          -0.012985         0.002423         -0.012987   \n",
       "\n",
       "                        total night minutes  total night calls  \\\n",
       "account length                    -0.008955          -0.013176   \n",
       "area code                         -0.005825           0.016522   \n",
       "number vmail messages              0.007681           0.007123   \n",
       "total day minutes                  0.004323           0.022972   \n",
       "total day calls                    0.022938          -0.019557   \n",
       "total day charge                   0.004324           0.022972   \n",
       "total eve minutes                 -0.012584           0.007586   \n",
       "total eve calls                   -0.002093           0.007710   \n",
       "total eve charge                  -0.012592           0.007596   \n",
       "total night minutes                1.000000           0.011204   \n",
       "total night calls                  0.011204           1.000000   \n",
       "total night charge                 0.999999           0.011188   \n",
       "total intl minutes                -0.015207          -0.013605   \n",
       "total intl calls                  -0.012353           0.000305   \n",
       "total intl charge                 -0.015180          -0.013630   \n",
       "customer service calls            -0.009288          -0.012802   \n",
       "\n",
       "                        total night charge  total intl minutes  \\\n",
       "account length                   -0.008960            0.009514   \n",
       "area code                        -0.005845           -0.018288   \n",
       "number vmail messages             0.007663            0.002856   \n",
       "total day minutes                 0.004300           -0.010155   \n",
       "total day calls                   0.022927            0.021565   \n",
       "total day charge                  0.004301           -0.010157   \n",
       "total eve minutes                -0.012593           -0.011035   \n",
       "total eve calls                  -0.002056            0.008703   \n",
       "total eve charge                 -0.012601           -0.011043   \n",
       "total night minutes               0.999999           -0.015207   \n",
       "total night calls                 0.011188           -0.013605   \n",
       "total night charge                1.000000           -0.015214   \n",
       "total intl minutes               -0.015214            1.000000   \n",
       "total intl calls                 -0.012329            0.032304   \n",
       "total intl charge                -0.015186            0.999993   \n",
       "customer service calls           -0.009277           -0.009640   \n",
       "\n",
       "                        total intl calls  total intl charge  \\\n",
       "account length                  0.020661           0.009546   \n",
       "area code                      -0.024179          -0.018395   \n",
       "number vmail messages           0.013957           0.002884   \n",
       "total day minutes               0.008033          -0.010092   \n",
       "total day calls                 0.004574           0.021666   \n",
       "total day charge                0.008032          -0.010094   \n",
       "total eve minutes               0.002541          -0.011067   \n",
       "total eve calls                 0.017434           0.008674   \n",
       "total eve charge                0.002541          -0.011074   \n",
       "total night minutes            -0.012353          -0.015180   \n",
       "total night calls               0.000305          -0.013630   \n",
       "total night charge             -0.012329          -0.015186   \n",
       "total intl minutes              0.032304           0.999993   \n",
       "total intl calls                1.000000           0.032372   \n",
       "total intl charge               0.032372           1.000000   \n",
       "customer service calls         -0.017561          -0.009675   \n",
       "\n",
       "                        customer service calls  \n",
       "account length                       -0.003796  \n",
       "area code                             0.027572  \n",
       "number vmail messages                -0.013263  \n",
       "total day minutes                    -0.013423  \n",
       "total day calls                      -0.018942  \n",
       "total day charge                     -0.013427  \n",
       "total eve minutes                    -0.012985  \n",
       "total eve calls                       0.002423  \n",
       "total eve charge                     -0.012987  \n",
       "total night minutes                  -0.009288  \n",
       "total night calls                    -0.012802  \n",
       "total night charge                   -0.009277  \n",
       "total intl minutes                   -0.009640  \n",
       "total intl calls                     -0.017561  \n",
       "total intl charge                    -0.009675  \n",
       "customer service calls                1.000000  "
      ]
     },
     "execution_count": 11,
     "metadata": {},
     "output_type": "execute_result"
    }
   ],
   "source": [
    "# Investigating feature correlation within themselves\n",
    "dp.read_multicollinearity()"
   ]
  },
  {
   "cell_type": "markdown",
   "metadata": {},
   "source": [
    "# 4.0 Data Cleaning"
   ]
  },
  {
   "cell_type": "markdown",
   "metadata": {},
   "source": [
    "# Missing Values"
   ]
  },
  {
   "cell_type": "code",
   "execution_count": 12,
   "metadata": {},
   "outputs": [
    {
     "data": {
      "text/plain": [
       "state                     0\n",
       "account length            0\n",
       "area code                 0\n",
       "phone number              0\n",
       "international plan        0\n",
       "voice mail plan           0\n",
       "number vmail messages     0\n",
       "total day minutes         0\n",
       "total day calls           0\n",
       "total day charge          0\n",
       "total eve minutes         0\n",
       "total eve calls           0\n",
       "total eve charge          0\n",
       "total night minutes       0\n",
       "total night calls         0\n",
       "total night charge        0\n",
       "total intl minutes        0\n",
       "total intl calls          0\n",
       "total intl charge         0\n",
       "customer service calls    0\n",
       "churn                     0\n",
       "dtype: int64"
      ]
     },
     "execution_count": 12,
     "metadata": {},
     "output_type": "execute_result"
    }
   ],
   "source": [
    "# Find the number of missing values\n",
    "dp.read_na()"
   ]
  },
  {
   "cell_type": "markdown",
   "metadata": {},
   "source": [
    "# Duplicates"
   ]
  },
  {
   "cell_type": "code",
   "execution_count": 13,
   "metadata": {},
   "outputs": [
    {
     "data": {
      "text/plain": [
       "0"
      ]
     },
     "execution_count": 13,
     "metadata": {},
     "output_type": "execute_result"
    }
   ],
   "source": [
    "# Check for Duplicates\n",
    "dp.read_duplicated()"
   ]
  },
  {
   "cell_type": "markdown",
   "metadata": {},
   "source": [
    "# Conversion of feature datatypes"
   ]
  },
  {
   "cell_type": "markdown",
   "metadata": {},
   "source": [
    "Convert the area code into a Categorical Dtype using pandas pd.Categorical"
   ]
  },
  {
   "cell_type": "code",
   "execution_count": 14,
   "metadata": {},
   "outputs": [
    {
     "data": {
      "text/plain": [
       "CategoricalDtype(categories=[408, 415, 510], ordered=False)"
      ]
     },
     "execution_count": 14,
     "metadata": {},
     "output_type": "execute_result"
    }
   ],
   "source": [
    "# Conversion of the 'area code' into a Categorical dtype\n",
    "df['area code'] = pd.Categorical(df['area code'])\n",
    "df['area code'].dtype"
   ]
  },
  {
   "cell_type": "markdown",
   "metadata": {},
   "source": [
    "# Conversion of feature values"
   ]
  },
  {
   "cell_type": "markdown",
   "metadata": {},
   "source": [
    "Convert the churn values using pandas .replace method"
   ]
  },
  {
   "cell_type": "code",
   "execution_count": 15,
   "metadata": {},
   "outputs": [],
   "source": [
    "df['churn'] = df['churn'].replace([False, True], ['False', 'True'])"
   ]
  },
  {
   "cell_type": "markdown",
   "metadata": {},
   "source": [
    "# Drop unnecessary columns"
   ]
  },
  {
   "cell_type": "markdown",
   "metadata": {},
   "source": [
    "Drop the phone number feature"
   ]
  },
  {
   "cell_type": "code",
   "execution_count": 16,
   "metadata": {},
   "outputs": [
    {
     "data": {
      "text/plain": [
       "Index(['state', 'account length', 'area code', 'international plan',\n",
       "       'voice mail plan', 'number vmail messages', 'total day minutes',\n",
       "       'total day calls', 'total day charge', 'total eve minutes',\n",
       "       'total eve calls', 'total eve charge', 'total night minutes',\n",
       "       'total night calls', 'total night charge', 'total intl minutes',\n",
       "       'total intl calls', 'total intl charge', 'customer service calls',\n",
       "       'churn'],\n",
       "      dtype='object')"
      ]
     },
     "execution_count": 16,
     "metadata": {},
     "output_type": "execute_result"
    }
   ],
   "source": [
    "df = df.drop('phone number', axis=1)\n",
    "\n",
    "# Test\n",
    "df.columns"
   ]
  },
  {
   "cell_type": "markdown",
   "metadata": {},
   "source": [
    "## 5.0. Data Exploration"
   ]
  },
  {
   "cell_type": "markdown",
   "metadata": {},
   "source": [
    "Split the data between the categorical columns and the numerical columns"
   ]
  },
  {
   "cell_type": "code",
   "execution_count": 17,
   "metadata": {},
   "outputs": [],
   "source": [
    "# Split the Categorical columns from the Numerical Columns\n",
    "num_cols = df.select_dtypes(include=['number', 'float', 'int']).columns\n",
    "cat_cols = df.select_dtypes(exclude=['number', 'float', 'int']).columns"
   ]
  },
  {
   "cell_type": "code",
   "execution_count": 18,
   "metadata": {},
   "outputs": [
    {
     "name": "stdout",
     "output_type": "stream",
     "text": [
      "State\n",
      "WV    106\n",
      "MN     84\n",
      "NY     83\n",
      "AL     80\n",
      "OH     78\n",
      "WI     78\n",
      "OR     78\n",
      "VA     77\n",
      "WY     77\n",
      "CT     74\n",
      "Name: state, dtype: int64\n",
      "\n",
      "Area code\n",
      "415    1655\n",
      "510     840\n",
      "408     838\n",
      "Name: area code, dtype: int64\n",
      "\n",
      "International plan\n",
      "no     3010\n",
      "yes     323\n",
      "Name: international plan, dtype: int64\n",
      "\n",
      "Voice mail plan\n",
      "no     2411\n",
      "yes     922\n",
      "Name: voice mail plan, dtype: int64\n",
      "\n",
      "Churn\n",
      "False    2850\n",
      "True      483\n",
      "Name: churn, dtype: int64\n",
      "\n"
     ]
    }
   ],
   "source": [
    "def view_value_counts(cat_columns):\n",
    "    for item in cat_columns:\n",
    "        print(item.capitalize())\n",
    "        values = df[item].value_counts()\n",
    "        print(values[:10] if len(values) > 10 else values)\n",
    "        print(\"\")\n",
    "        \n",
    "view_value_counts(cat_cols)"
   ]
  },
  {
   "cell_type": "markdown",
   "metadata": {},
   "source": [
    "Comment\n",
    "\n",
    "Our top customers are come from West Virginia, Minesota and Virginia.\n",
    "\n",
    "The area code with the highest clientelle base 415.\n",
    "\n",
    "The ratio between customers without an international plan against those who do is around 10 to 1.\n",
    "\n",
    "The ratio between customers who don't churn against those who do is around 17 to 1."
   ]
  },
  {
   "cell_type": "code",
   "execution_count": 19,
   "metadata": {},
   "outputs": [
    {
     "data": {
      "text/html": [
       "<div>\n",
       "<style scoped>\n",
       "    .dataframe tbody tr th:only-of-type {\n",
       "        vertical-align: middle;\n",
       "    }\n",
       "\n",
       "    .dataframe tbody tr th {\n",
       "        vertical-align: top;\n",
       "    }\n",
       "\n",
       "    .dataframe thead th {\n",
       "        text-align: right;\n",
       "    }\n",
       "</style>\n",
       "<table border=\"1\" class=\"dataframe\">\n",
       "  <thead>\n",
       "    <tr style=\"text-align: right;\">\n",
       "      <th></th>\n",
       "      <th>account length</th>\n",
       "      <th>number vmail messages</th>\n",
       "      <th>total day minutes</th>\n",
       "      <th>total day calls</th>\n",
       "      <th>total day charge</th>\n",
       "      <th>total eve minutes</th>\n",
       "      <th>total eve calls</th>\n",
       "      <th>total eve charge</th>\n",
       "      <th>total night minutes</th>\n",
       "      <th>total night calls</th>\n",
       "      <th>total night charge</th>\n",
       "      <th>total intl minutes</th>\n",
       "      <th>total intl calls</th>\n",
       "      <th>total intl charge</th>\n",
       "      <th>customer service calls</th>\n",
       "    </tr>\n",
       "    <tr>\n",
       "      <th>churn</th>\n",
       "      <th></th>\n",
       "      <th></th>\n",
       "      <th></th>\n",
       "      <th></th>\n",
       "      <th></th>\n",
       "      <th></th>\n",
       "      <th></th>\n",
       "      <th></th>\n",
       "      <th></th>\n",
       "      <th></th>\n",
       "      <th></th>\n",
       "      <th></th>\n",
       "      <th></th>\n",
       "      <th></th>\n",
       "      <th></th>\n",
       "    </tr>\n",
       "  </thead>\n",
       "  <tbody>\n",
       "    <tr>\n",
       "      <th>False</th>\n",
       "      <td>100</td>\n",
       "      <td>0</td>\n",
       "      <td>177.2</td>\n",
       "      <td>100</td>\n",
       "      <td>30.12</td>\n",
       "      <td>199.6</td>\n",
       "      <td>100</td>\n",
       "      <td>16.97</td>\n",
       "      <td>200.25</td>\n",
       "      <td>100</td>\n",
       "      <td>9.01</td>\n",
       "      <td>10.2</td>\n",
       "      <td>4</td>\n",
       "      <td>2.75</td>\n",
       "      <td>1</td>\n",
       "    </tr>\n",
       "    <tr>\n",
       "      <th>True</th>\n",
       "      <td>103</td>\n",
       "      <td>0</td>\n",
       "      <td>217.6</td>\n",
       "      <td>103</td>\n",
       "      <td>36.99</td>\n",
       "      <td>211.3</td>\n",
       "      <td>101</td>\n",
       "      <td>17.96</td>\n",
       "      <td>204.80</td>\n",
       "      <td>100</td>\n",
       "      <td>9.22</td>\n",
       "      <td>10.6</td>\n",
       "      <td>4</td>\n",
       "      <td>2.86</td>\n",
       "      <td>2</td>\n",
       "    </tr>\n",
       "  </tbody>\n",
       "</table>\n",
       "</div>"
      ],
      "text/plain": [
       "       account length  number vmail messages  total day minutes  \\\n",
       "churn                                                             \n",
       "False             100                      0              177.2   \n",
       "True              103                      0              217.6   \n",
       "\n",
       "       total day calls  total day charge  total eve minutes  total eve calls  \\\n",
       "churn                                                                          \n",
       "False              100             30.12              199.6              100   \n",
       "True               103             36.99              211.3              101   \n",
       "\n",
       "       total eve charge  total night minutes  total night calls  \\\n",
       "churn                                                             \n",
       "False             16.97               200.25                100   \n",
       "True              17.96               204.80                100   \n",
       "\n",
       "       total night charge  total intl minutes  total intl calls  \\\n",
       "churn                                                             \n",
       "False                9.01                10.2                 4   \n",
       "True                 9.22                10.6                 4   \n",
       "\n",
       "       total intl charge  customer service calls  \n",
       "churn                                             \n",
       "False               2.75                       1  \n",
       "True                2.86                       2  "
      ]
     },
     "execution_count": 19,
     "metadata": {},
     "output_type": "execute_result"
    }
   ],
   "source": [
    "df.groupby('churn').median().loc[:,]"
   ]
  },
  {
   "cell_type": "code",
   "execution_count": 20,
   "metadata": {},
   "outputs": [
    {
     "data": {
      "text/html": [
       "<div>\n",
       "<style scoped>\n",
       "    .dataframe tbody tr th:only-of-type {\n",
       "        vertical-align: middle;\n",
       "    }\n",
       "\n",
       "    .dataframe tbody tr th {\n",
       "        vertical-align: top;\n",
       "    }\n",
       "\n",
       "    .dataframe thead th {\n",
       "        text-align: right;\n",
       "    }\n",
       "</style>\n",
       "<table border=\"1\" class=\"dataframe\">\n",
       "  <thead>\n",
       "    <tr style=\"text-align: right;\">\n",
       "      <th></th>\n",
       "      <th>account length</th>\n",
       "      <th>number vmail messages</th>\n",
       "      <th>total day minutes</th>\n",
       "      <th>total day calls</th>\n",
       "      <th>total day charge</th>\n",
       "      <th>total eve minutes</th>\n",
       "      <th>total eve calls</th>\n",
       "      <th>total eve charge</th>\n",
       "      <th>total night minutes</th>\n",
       "      <th>total night calls</th>\n",
       "      <th>total night charge</th>\n",
       "      <th>total intl minutes</th>\n",
       "      <th>total intl calls</th>\n",
       "      <th>total intl charge</th>\n",
       "      <th>customer service calls</th>\n",
       "    </tr>\n",
       "    <tr>\n",
       "      <th>churn</th>\n",
       "      <th></th>\n",
       "      <th></th>\n",
       "      <th></th>\n",
       "      <th></th>\n",
       "      <th></th>\n",
       "      <th></th>\n",
       "      <th></th>\n",
       "      <th></th>\n",
       "      <th></th>\n",
       "      <th></th>\n",
       "      <th></th>\n",
       "      <th></th>\n",
       "      <th></th>\n",
       "      <th></th>\n",
       "      <th></th>\n",
       "    </tr>\n",
       "  </thead>\n",
       "  <tbody>\n",
       "    <tr>\n",
       "      <th>False</th>\n",
       "      <td>100.793684</td>\n",
       "      <td>8.604561</td>\n",
       "      <td>175.175754</td>\n",
       "      <td>100.283158</td>\n",
       "      <td>29.780421</td>\n",
       "      <td>199.043298</td>\n",
       "      <td>100.038596</td>\n",
       "      <td>16.918909</td>\n",
       "      <td>200.133193</td>\n",
       "      <td>100.058246</td>\n",
       "      <td>9.006074</td>\n",
       "      <td>10.158877</td>\n",
       "      <td>4.532982</td>\n",
       "      <td>2.743404</td>\n",
       "      <td>1.449825</td>\n",
       "    </tr>\n",
       "    <tr>\n",
       "      <th>True</th>\n",
       "      <td>102.664596</td>\n",
       "      <td>5.115942</td>\n",
       "      <td>206.914079</td>\n",
       "      <td>101.335404</td>\n",
       "      <td>35.175921</td>\n",
       "      <td>212.410145</td>\n",
       "      <td>100.561077</td>\n",
       "      <td>18.054969</td>\n",
       "      <td>205.231677</td>\n",
       "      <td>100.399586</td>\n",
       "      <td>9.235528</td>\n",
       "      <td>10.700000</td>\n",
       "      <td>4.163561</td>\n",
       "      <td>2.889545</td>\n",
       "      <td>2.229814</td>\n",
       "    </tr>\n",
       "  </tbody>\n",
       "</table>\n",
       "</div>"
      ],
      "text/plain": [
       "       account length  number vmail messages  total day minutes  \\\n",
       "churn                                                             \n",
       "False      100.793684               8.604561         175.175754   \n",
       "True       102.664596               5.115942         206.914079   \n",
       "\n",
       "       total day calls  total day charge  total eve minutes  total eve calls  \\\n",
       "churn                                                                          \n",
       "False       100.283158         29.780421         199.043298       100.038596   \n",
       "True        101.335404         35.175921         212.410145       100.561077   \n",
       "\n",
       "       total eve charge  total night minutes  total night calls  \\\n",
       "churn                                                             \n",
       "False         16.918909           200.133193         100.058246   \n",
       "True          18.054969           205.231677         100.399586   \n",
       "\n",
       "       total night charge  total intl minutes  total intl calls  \\\n",
       "churn                                                             \n",
       "False            9.006074           10.158877          4.532982   \n",
       "True             9.235528           10.700000          4.163561   \n",
       "\n",
       "       total intl charge  customer service calls  \n",
       "churn                                             \n",
       "False           2.743404                1.449825  \n",
       "True            2.889545                2.229814  "
      ]
     },
     "execution_count": 20,
     "metadata": {},
     "output_type": "execute_result"
    }
   ],
   "source": [
    "df.groupby('churn').mean().loc[:,]"
   ]
  },
  {
   "cell_type": "code",
   "execution_count": 21,
   "metadata": {},
   "outputs": [],
   "source": [
    "# Maintain seperate datasets were 'churn' is either True or False\n",
    "stayed_df = df[df['churn']=='False']\n",
    "left_df = df[df['churn']!='False']"
   ]
  },
  {
   "cell_type": "markdown",
   "metadata": {},
   "source": [
    " ## Which are some differentiating features between the customers who stayed versus those who left?"
   ]
  },
  {
   "cell_type": "markdown",
   "metadata": {},
   "source": [
    "# Area Code"
   ]
  },
  {
   "cell_type": "code",
   "execution_count": 22,
   "metadata": {},
   "outputs": [
    {
     "data": {
      "text/plain": [
       "415    0.496550\n",
       "510    0.252025\n",
       "408    0.251425\n",
       "Name: area code, dtype: float64"
      ]
     },
     "execution_count": 22,
     "metadata": {},
     "output_type": "execute_result"
    }
   ],
   "source": [
    "df['area code'].value_counts(normalize=True)"
   ]
  },
  {
   "cell_type": "code",
   "execution_count": 23,
   "metadata": {},
   "outputs": [
    {
     "data": {
      "text/plain": [
       "(415    1419\n",
       " 408     716\n",
       " 510     715\n",
       " Name: area code, dtype: int64,\n",
       " 415    236\n",
       " 510    125\n",
       " 408    122\n",
       " Name: area code, dtype: int64)"
      ]
     },
     "execution_count": 23,
     "metadata": {},
     "output_type": "execute_result"
    }
   ],
   "source": [
    "stayed_df['area code'].value_counts(), left_df['area code'].value_counts()"
   ]
  },
  {
   "cell_type": "code",
   "execution_count": 24,
   "metadata": {},
   "outputs": [
    {
     "data": {
      "text/plain": [
       "(415    0.497895\n",
       " 408    0.251228\n",
       " 510    0.250877\n",
       " Name: area code, dtype: float64,\n",
       " 415    0.488613\n",
       " 510    0.258799\n",
       " 408    0.252588\n",
       " Name: area code, dtype: float64)"
      ]
     },
     "execution_count": 24,
     "metadata": {},
     "output_type": "execute_result"
    }
   ],
   "source": [
    "stayed_df['area code'].value_counts(normalize=True), left_df['area code'].value_counts(normalize=True)"
   ]
  },
  {
   "cell_type": "markdown",
   "metadata": {},
   "source": [
    "Area code 415 represents the area code where most of our customers stayed and left at the same time. The ratios between the stayed versus left customers seems consistent"
   ]
  },
  {
   "cell_type": "markdown",
   "metadata": {},
   "source": [
    "# Customer Service Calls"
   ]
  },
  {
   "cell_type": "code",
   "execution_count": 25,
   "metadata": {},
   "outputs": [
    {
     "data": {
      "text/plain": [
       "(1.4498245614035088, 2.229813664596273)"
      ]
     },
     "execution_count": 25,
     "metadata": {},
     "output_type": "execute_result"
    }
   ],
   "source": [
    "stayed_df['customer service calls'].mean(), left_df['customer service calls'].mean()"
   ]
  },
  {
   "cell_type": "code",
   "execution_count": 26,
   "metadata": {},
   "outputs": [
    {
     "data": {
      "text/html": [
       "<div>\n",
       "<style scoped>\n",
       "    .dataframe tbody tr th:only-of-type {\n",
       "        vertical-align: middle;\n",
       "    }\n",
       "\n",
       "    .dataframe tbody tr th {\n",
       "        vertical-align: top;\n",
       "    }\n",
       "\n",
       "    .dataframe thead th {\n",
       "        text-align: right;\n",
       "    }\n",
       "</style>\n",
       "<table border=\"1\" class=\"dataframe\">\n",
       "  <thead>\n",
       "    <tr style=\"text-align: right;\">\n",
       "      <th></th>\n",
       "      <th>customer service calls</th>\n",
       "    </tr>\n",
       "    <tr>\n",
       "      <th>state</th>\n",
       "      <th></th>\n",
       "    </tr>\n",
       "  </thead>\n",
       "  <tbody>\n",
       "    <tr>\n",
       "      <th>WV</th>\n",
       "      <td>159</td>\n",
       "    </tr>\n",
       "    <tr>\n",
       "      <th>NY</th>\n",
       "      <td>142</td>\n",
       "    </tr>\n",
       "    <tr>\n",
       "      <th>OR</th>\n",
       "      <td>135</td>\n",
       "    </tr>\n",
       "    <tr>\n",
       "      <th>MN</th>\n",
       "      <td>130</td>\n",
       "    </tr>\n",
       "    <tr>\n",
       "      <th>VT</th>\n",
       "      <td>127</td>\n",
       "    </tr>\n",
       "    <tr>\n",
       "      <th>AL</th>\n",
       "      <td>125</td>\n",
       "    </tr>\n",
       "    <tr>\n",
       "      <th>VA</th>\n",
       "      <td>123</td>\n",
       "    </tr>\n",
       "    <tr>\n",
       "      <th>ID</th>\n",
       "      <td>122</td>\n",
       "    </tr>\n",
       "    <tr>\n",
       "      <th>IN</th>\n",
       "      <td>120</td>\n",
       "    </tr>\n",
       "    <tr>\n",
       "      <th>MI</th>\n",
       "      <td>119</td>\n",
       "    </tr>\n",
       "  </tbody>\n",
       "</table>\n",
       "</div>"
      ],
      "text/plain": [
       "       customer service calls\n",
       "state                        \n",
       "WV                        159\n",
       "NY                        142\n",
       "OR                        135\n",
       "MN                        130\n",
       "VT                        127\n",
       "AL                        125\n",
       "VA                        123\n",
       "ID                        122\n",
       "IN                        120\n",
       "MI                        119"
      ]
     },
     "execution_count": 26,
     "metadata": {},
     "output_type": "execute_result"
    }
   ],
   "source": [
    "csc_states = df.groupby(['state']).sum()[['customer service calls']].sort_values(by='customer service calls',ascending=False)[:10]\n",
    "csc_states"
   ]
  },
  {
   "cell_type": "code",
   "execution_count": 27,
   "metadata": {},
   "outputs": [
    {
     "data": {
      "text/html": [
       "<div>\n",
       "<style scoped>\n",
       "    .dataframe tbody tr th:only-of-type {\n",
       "        vertical-align: middle;\n",
       "    }\n",
       "\n",
       "    .dataframe tbody tr th {\n",
       "        vertical-align: top;\n",
       "    }\n",
       "\n",
       "    .dataframe thead th {\n",
       "        text-align: right;\n",
       "    }\n",
       "</style>\n",
       "<table border=\"1\" class=\"dataframe\">\n",
       "  <thead>\n",
       "    <tr style=\"text-align: right;\">\n",
       "      <th></th>\n",
       "      <th>customer service calls</th>\n",
       "    </tr>\n",
       "    <tr>\n",
       "      <th>state</th>\n",
       "      <th></th>\n",
       "    </tr>\n",
       "  </thead>\n",
       "  <tbody>\n",
       "    <tr>\n",
       "      <th>AR</th>\n",
       "      <td>1.981818</td>\n",
       "    </tr>\n",
       "    <tr>\n",
       "      <th>GA</th>\n",
       "      <td>1.925926</td>\n",
       "    </tr>\n",
       "    <tr>\n",
       "      <th>CO</th>\n",
       "      <td>1.787879</td>\n",
       "    </tr>\n",
       "    <tr>\n",
       "      <th>OK</th>\n",
       "      <td>1.786885</td>\n",
       "    </tr>\n",
       "    <tr>\n",
       "      <th>ME</th>\n",
       "      <td>1.741935</td>\n",
       "    </tr>\n",
       "    <tr>\n",
       "      <th>VT</th>\n",
       "      <td>1.739726</td>\n",
       "    </tr>\n",
       "    <tr>\n",
       "      <th>OR</th>\n",
       "      <td>1.730769</td>\n",
       "    </tr>\n",
       "    <tr>\n",
       "      <th>KY</th>\n",
       "      <td>1.711864</td>\n",
       "    </tr>\n",
       "    <tr>\n",
       "      <th>NY</th>\n",
       "      <td>1.710843</td>\n",
       "    </tr>\n",
       "    <tr>\n",
       "      <th>MD</th>\n",
       "      <td>1.700000</td>\n",
       "    </tr>\n",
       "  </tbody>\n",
       "</table>\n",
       "</div>"
      ],
      "text/plain": [
       "       customer service calls\n",
       "state                        \n",
       "AR                   1.981818\n",
       "GA                   1.925926\n",
       "CO                   1.787879\n",
       "OK                   1.786885\n",
       "ME                   1.741935\n",
       "VT                   1.739726\n",
       "OR                   1.730769\n",
       "KY                   1.711864\n",
       "NY                   1.710843\n",
       "MD                   1.700000"
      ]
     },
     "execution_count": 27,
     "metadata": {},
     "output_type": "execute_result"
    }
   ],
   "source": [
    "avg_css_states = df.groupby(['state']).mean()[['customer service calls']].sort_values(by='customer service calls',ascending=False)[:10]\n",
    "avg_css_states"
   ]
  },
  {
   "cell_type": "markdown",
   "metadata": {},
   "source": [
    "The mean of the number of calls made to the customer service center were considerably in those made by the customers who stayed.\n",
    "\n",
    "The state with the highest number of calls to the service center in absolute terms was West Virginia, Oregon and New York.\n",
    "\n",
    "From an average perspective, the highest averages per state to the customer service centers were from Arizona, Georgia and Colarado."
   ]
  },
  {
   "cell_type": "markdown",
   "metadata": {},
   "source": [
    "# Domestic Plans"
   ]
  },
  {
   "cell_type": "markdown",
   "metadata": {},
   "source": [
    "## Minutes purchased throughout the three periods - day, evening and night"
   ]
  },
  {
   "cell_type": "code",
   "execution_count": 28,
   "metadata": {},
   "outputs": [
    {
     "data": {
      "text/plain": [
       "(574.352245614035, 624.555900621118)"
      ]
     },
     "execution_count": 28,
     "metadata": {},
     "output_type": "execute_result"
    }
   ],
   "source": [
    "stayed_min = (stayed_df['total day minutes'] + stayed_df['total eve minutes'] + stayed_df['total night minutes']).mean()\n",
    "left_min = (left_df['total day minutes'] + left_df['total eve minutes'] + left_df['total night minutes']).mean()\n",
    "\n",
    "stayed_min, left_min"
   ]
  },
  {
   "cell_type": "markdown",
   "metadata": {},
   "source": [
    "The mean of the minutes purchased by the customers for domestic usage who left was significantly more than those who stayed"
   ]
  },
  {
   "cell_type": "markdown",
   "metadata": {},
   "source": [
    "# Total Charges across the three periods - day, evening and night"
   ]
  },
  {
   "cell_type": "code",
   "execution_count": 29,
   "metadata": {},
   "outputs": [
    {
     "data": {
      "text/plain": [
       "(55.70540350877194, 62.466418219461694)"
      ]
     },
     "execution_count": 29,
     "metadata": {},
     "output_type": "execute_result"
    }
   ],
   "source": [
    "stayed_charges = (stayed_df['total day charge'] + stayed_df['total eve charge'] + stayed_df['total night charge']).mean()\n",
    "left_charges = (left_df['total day charge'] + left_df['total eve charge'] + left_df['total night charge']).mean()\n",
    "\n",
    "stayed_charges, left_charges"
   ]
  },
  {
   "cell_type": "markdown",
   "metadata": {},
   "source": [
    "The mean of the charges for domestic usage for the customers who left was significantly more than those who stayed."
   ]
  },
  {
   "cell_type": "markdown",
   "metadata": {},
   "source": [
    "# International Plans"
   ]
  },
  {
   "cell_type": "markdown",
   "metadata": {},
   "source": [
    "## International Plans Opted"
   ]
  },
  {
   "cell_type": "code",
   "execution_count": 30,
   "metadata": {},
   "outputs": [
    {
     "data": {
      "text/plain": [
       "(no     0.934737\n",
       " yes    0.065263\n",
       " Name: international plan, dtype: float64,\n",
       " no     0.716356\n",
       " yes    0.283644\n",
       " Name: international plan, dtype: float64)"
      ]
     },
     "execution_count": 30,
     "metadata": {},
     "output_type": "execute_result"
    }
   ],
   "source": [
    "stayed_df['international plan'].value_counts(normalize=True), left_df['international plan'].value_counts(normalize=True)"
   ]
  },
  {
   "cell_type": "markdown",
   "metadata": {},
   "source": [
    "\n",
    "6% of the proportion of consumers who stayed had an international plan while 28% of the customers who left had an international plan connected with their account."
   ]
  },
  {
   "cell_type": "markdown",
   "metadata": {},
   "source": [
    "## Total International Plans - Minutes and Charges"
   ]
  },
  {
   "cell_type": "code",
   "execution_count": 31,
   "metadata": {},
   "outputs": [
    {
     "data": {
      "text/html": [
       "<div>\n",
       "<style scoped>\n",
       "    .dataframe tbody tr th:only-of-type {\n",
       "        vertical-align: middle;\n",
       "    }\n",
       "\n",
       "    .dataframe tbody tr th {\n",
       "        vertical-align: top;\n",
       "    }\n",
       "\n",
       "    .dataframe thead th {\n",
       "        text-align: right;\n",
       "    }\n",
       "</style>\n",
       "<table border=\"1\" class=\"dataframe\">\n",
       "  <thead>\n",
       "    <tr style=\"text-align: right;\">\n",
       "      <th></th>\n",
       "      <th></th>\n",
       "      <th>total intl minutes</th>\n",
       "      <th>total intl calls</th>\n",
       "      <th>total intl charge</th>\n",
       "    </tr>\n",
       "    <tr>\n",
       "      <th>churn</th>\n",
       "      <th>international plan</th>\n",
       "      <th></th>\n",
       "      <th></th>\n",
       "      <th></th>\n",
       "    </tr>\n",
       "  </thead>\n",
       "  <tbody>\n",
       "    <tr>\n",
       "      <th rowspan=\"2\" valign=\"top\">False</th>\n",
       "      <th>no</th>\n",
       "      <td>10.185473</td>\n",
       "      <td>4.493243</td>\n",
       "      <td>2.750586</td>\n",
       "    </tr>\n",
       "    <tr>\n",
       "      <th>yes</th>\n",
       "      <td>9.777957</td>\n",
       "      <td>5.102151</td>\n",
       "      <td>2.640538</td>\n",
       "    </tr>\n",
       "    <tr>\n",
       "      <th rowspan=\"2\" valign=\"top\">True</th>\n",
       "      <th>no</th>\n",
       "      <td>10.271387</td>\n",
       "      <td>4.251445</td>\n",
       "      <td>2.774017</td>\n",
       "    </tr>\n",
       "    <tr>\n",
       "      <th>yes</th>\n",
       "      <td>11.782482</td>\n",
       "      <td>3.941606</td>\n",
       "      <td>3.181314</td>\n",
       "    </tr>\n",
       "  </tbody>\n",
       "</table>\n",
       "</div>"
      ],
      "text/plain": [
       "                          total intl minutes  total intl calls  \\\n",
       "churn international plan                                         \n",
       "False no                           10.185473          4.493243   \n",
       "      yes                           9.777957          5.102151   \n",
       "True  no                           10.271387          4.251445   \n",
       "      yes                          11.782482          3.941606   \n",
       "\n",
       "                          total intl charge  \n",
       "churn international plan                     \n",
       "False no                           2.750586  \n",
       "      yes                          2.640538  \n",
       "True  no                           2.774017  \n",
       "      yes                          3.181314  "
      ]
     },
     "execution_count": 31,
     "metadata": {},
     "output_type": "execute_result"
    }
   ],
   "source": [
    "df.groupby(['churn', 'international plan']).mean().iloc[:, -4:-1]"
   ]
  },
  {
   "cell_type": "code",
   "execution_count": 32,
   "metadata": {},
   "outputs": [
    {
     "data": {
      "text/plain": [
       "(10.158877192982455, 10.700000000000001)"
      ]
     },
     "execution_count": 32,
     "metadata": {},
     "output_type": "execute_result"
    }
   ],
   "source": [
    "stayed_df['total intl minutes'].mean(), left_df['total intl minutes'].mean()"
   ]
  },
  {
   "cell_type": "code",
   "execution_count": 33,
   "metadata": {},
   "outputs": [
    {
     "data": {
      "text/plain": [
       "(2.7434035087719297, 2.8895445134575573)"
      ]
     },
     "execution_count": 33,
     "metadata": {},
     "output_type": "execute_result"
    }
   ],
   "source": [
    "stayed_df['total intl charge'].mean(), left_df['total intl charge'].mean()"
   ]
  },
  {
   "cell_type": "markdown",
   "metadata": {},
   "source": [
    "The data indicates higher average values in terms of minutes purchased and bill charged to the consumers who left over those who stayed."
   ]
  },
  {
   "cell_type": "markdown",
   "metadata": {},
   "source": [
    "# Account Lengths"
   ]
  },
  {
   "cell_type": "markdown",
   "metadata": {},
   "source": [
    "## Account Lengths Exploration"
   ]
  },
  {
   "cell_type": "code",
   "execution_count": 34,
   "metadata": {},
   "outputs": [
    {
     "data": {
      "text/plain": [
       "(100.79368421052632, 102.66459627329192)"
      ]
     },
     "execution_count": 34,
     "metadata": {},
     "output_type": "execute_result"
    }
   ],
   "source": [
    "stayed_df['account length'].mean(), left_df['account length'].mean()"
   ]
  },
  {
   "cell_type": "markdown",
   "metadata": {},
   "source": [
    "##  Account Lengths and States"
   ]
  },
  {
   "cell_type": "code",
   "execution_count": 35,
   "metadata": {},
   "outputs": [
    {
     "data": {
      "text/html": [
       "<div>\n",
       "<style scoped>\n",
       "    .dataframe tbody tr th:only-of-type {\n",
       "        vertical-align: middle;\n",
       "    }\n",
       "\n",
       "    .dataframe tbody tr th {\n",
       "        vertical-align: top;\n",
       "    }\n",
       "\n",
       "    .dataframe thead th {\n",
       "        text-align: right;\n",
       "    }\n",
       "</style>\n",
       "<table border=\"1\" class=\"dataframe\">\n",
       "  <thead>\n",
       "    <tr style=\"text-align: right;\">\n",
       "      <th></th>\n",
       "      <th>account length</th>\n",
       "    </tr>\n",
       "    <tr>\n",
       "      <th>state</th>\n",
       "      <th></th>\n",
       "    </tr>\n",
       "  </thead>\n",
       "  <tbody>\n",
       "    <tr>\n",
       "      <th>FL</th>\n",
       "      <td>109.571429</td>\n",
       "    </tr>\n",
       "    <tr>\n",
       "      <th>OK</th>\n",
       "      <td>108.262295</td>\n",
       "    </tr>\n",
       "    <tr>\n",
       "      <th>LA</th>\n",
       "      <td>108.235294</td>\n",
       "    </tr>\n",
       "    <tr>\n",
       "      <th>KS</th>\n",
       "      <td>106.785714</td>\n",
       "    </tr>\n",
       "    <tr>\n",
       "      <th>ND</th>\n",
       "      <td>106.209677</td>\n",
       "    </tr>\n",
       "    <tr>\n",
       "      <th>VA</th>\n",
       "      <td>105.935065</td>\n",
       "    </tr>\n",
       "    <tr>\n",
       "      <th>WY</th>\n",
       "      <td>105.740260</td>\n",
       "    </tr>\n",
       "    <tr>\n",
       "      <th>DC</th>\n",
       "      <td>105.722222</td>\n",
       "    </tr>\n",
       "    <tr>\n",
       "      <th>HI</th>\n",
       "      <td>105.471698</td>\n",
       "    </tr>\n",
       "    <tr>\n",
       "      <th>SD</th>\n",
       "      <td>105.450000</td>\n",
       "    </tr>\n",
       "  </tbody>\n",
       "</table>\n",
       "</div>"
      ],
      "text/plain": [
       "       account length\n",
       "state                \n",
       "FL         109.571429\n",
       "OK         108.262295\n",
       "LA         108.235294\n",
       "KS         106.785714\n",
       "ND         106.209677\n",
       "VA         105.935065\n",
       "WY         105.740260\n",
       "DC         105.722222\n",
       "HI         105.471698\n",
       "SD         105.450000"
      ]
     },
     "execution_count": 35,
     "metadata": {},
     "output_type": "execute_result"
    }
   ],
   "source": [
    "df.groupby(['state']).mean()[['account length']].sort_values(by='account length', ascending=False)[:10]"
   ]
  },
  {
   "cell_type": "markdown",
   "metadata": {},
   "source": [
    "## Account Lengths against Customer Service Calls"
   ]
  },
  {
   "cell_type": "code",
   "execution_count": 36,
   "metadata": {},
   "outputs": [
    {
     "data": {
      "text/html": [
       "<div>\n",
       "<style scoped>\n",
       "    .dataframe tbody tr th:only-of-type {\n",
       "        vertical-align: middle;\n",
       "    }\n",
       "\n",
       "    .dataframe tbody tr th {\n",
       "        vertical-align: top;\n",
       "    }\n",
       "\n",
       "    .dataframe thead th {\n",
       "        text-align: right;\n",
       "    }\n",
       "</style>\n",
       "<table border=\"1\" class=\"dataframe\">\n",
       "  <thead>\n",
       "    <tr style=\"text-align: right;\">\n",
       "      <th></th>\n",
       "      <th></th>\n",
       "      <th>account length</th>\n",
       "    </tr>\n",
       "    <tr>\n",
       "      <th>churn</th>\n",
       "      <th>customer service calls</th>\n",
       "      <th></th>\n",
       "    </tr>\n",
       "  </thead>\n",
       "  <tbody>\n",
       "    <tr>\n",
       "      <th rowspan=\"9\" valign=\"top\">False</th>\n",
       "      <th>0</th>\n",
       "      <td>101.550413</td>\n",
       "    </tr>\n",
       "    <tr>\n",
       "      <th>1</th>\n",
       "      <td>101.386213</td>\n",
       "    </tr>\n",
       "    <tr>\n",
       "      <th>2</th>\n",
       "      <td>99.197917</td>\n",
       "    </tr>\n",
       "    <tr>\n",
       "      <th>3</th>\n",
       "      <td>100.142857</td>\n",
       "    </tr>\n",
       "    <tr>\n",
       "      <th>4</th>\n",
       "      <td>100.333333</td>\n",
       "    </tr>\n",
       "    <tr>\n",
       "      <th>5</th>\n",
       "      <td>109.192308</td>\n",
       "    </tr>\n",
       "    <tr>\n",
       "      <th>6</th>\n",
       "      <td>100.875000</td>\n",
       "    </tr>\n",
       "    <tr>\n",
       "      <th>7</th>\n",
       "      <td>125.000000</td>\n",
       "    </tr>\n",
       "    <tr>\n",
       "      <th>8</th>\n",
       "      <td>64.000000</td>\n",
       "    </tr>\n",
       "    <tr>\n",
       "      <th rowspan=\"10\" valign=\"top\">True</th>\n",
       "      <th>0</th>\n",
       "      <td>99.673913</td>\n",
       "    </tr>\n",
       "    <tr>\n",
       "      <th>1</th>\n",
       "      <td>105.196721</td>\n",
       "    </tr>\n",
       "    <tr>\n",
       "      <th>2</th>\n",
       "      <td>99.436782</td>\n",
       "    </tr>\n",
       "    <tr>\n",
       "      <th>3</th>\n",
       "      <td>112.727273</td>\n",
       "    </tr>\n",
       "    <tr>\n",
       "      <th>4</th>\n",
       "      <td>105.421053</td>\n",
       "    </tr>\n",
       "    <tr>\n",
       "      <th>5</th>\n",
       "      <td>98.250000</td>\n",
       "    </tr>\n",
       "    <tr>\n",
       "      <th>6</th>\n",
       "      <td>84.071429</td>\n",
       "    </tr>\n",
       "    <tr>\n",
       "      <th>7</th>\n",
       "      <td>109.000000</td>\n",
       "    </tr>\n",
       "    <tr>\n",
       "      <th>8</th>\n",
       "      <td>103.000000</td>\n",
       "    </tr>\n",
       "    <tr>\n",
       "      <th>9</th>\n",
       "      <td>102.500000</td>\n",
       "    </tr>\n",
       "  </tbody>\n",
       "</table>\n",
       "</div>"
      ],
      "text/plain": [
       "                              account length\n",
       "churn customer service calls                \n",
       "False 0                           101.550413\n",
       "      1                           101.386213\n",
       "      2                            99.197917\n",
       "      3                           100.142857\n",
       "      4                           100.333333\n",
       "      5                           109.192308\n",
       "      6                           100.875000\n",
       "      7                           125.000000\n",
       "      8                            64.000000\n",
       "True  0                            99.673913\n",
       "      1                           105.196721\n",
       "      2                            99.436782\n",
       "      3                           112.727273\n",
       "      4                           105.421053\n",
       "      5                            98.250000\n",
       "      6                            84.071429\n",
       "      7                           109.000000\n",
       "      8                           103.000000\n",
       "      9                           102.500000"
      ]
     },
     "execution_count": 36,
     "metadata": {},
     "output_type": "execute_result"
    }
   ],
   "source": [
    "df.groupby(['churn', 'customer service calls']).mean()[['account length']]"
   ]
  },
  {
   "cell_type": "markdown",
   "metadata": {},
   "source": [
    "The customers who left held on their accounts longer than the customers who stayed.\n",
    "\n",
    "On average, customers from Florida, Oklahoma and Los Angeles had the highest account lengths than all other customers in America.\n",
    "\n",
    "In addition, customers who left and had longer account lengths seemed to have made more calls to the service centers than the customers who stayed."
   ]
  },
  {
   "cell_type": "markdown",
   "metadata": {},
   "source": [
    "# COMMENTS"
   ]
  },
  {
   "cell_type": "markdown",
   "metadata": {},
   "source": [
    "\n",
    "Area codes 415, 408 and 510 share proportions 50%, 25%, and 25% respectively representing the proportion of customers in each area code. The proportions hold true when comparing the data for the customers who churned and those who did not.\n",
    "\n",
    "The mean number of calls to custmomer service were significantly more in the customers who left than those who stayed.\n",
    "\n",
    "The mean amount of day minutes and their mean charges for customers who left were significantly more than the customers who stayed.\n",
    "\n",
    "Only 6% of the customers who stayed did had an international plan whereas 28% of the customers who left had an international plan.\n",
    "\n",
    "The minutes spent on international calls were higher in the customers who left over the customers who stayed.\n",
    "\n",
    "The average international call charge was higher in the customers who churned over the customers who stayed.\n",
    "\n",
    "Account lengths held by the customers who left were slightly more than those held by the customers who stayed."
   ]
  },
  {
   "cell_type": "markdown",
   "metadata": {},
   "source": [
    "# 6.0 Data Visualisation"
   ]
  },
  {
   "cell_type": "markdown",
   "metadata": {},
   "source": [
    "## Univariate Analysis"
   ]
  },
  {
   "cell_type": "code",
   "execution_count": 37,
   "metadata": {},
   "outputs": [],
   "source": [
    "def univariate_plot(col):\n",
    "    # Style\n",
    "#     plt.style.use('_mpl-gallery')\n",
    "    if col in num_cols:\n",
    "\n",
    "        # plot:\n",
    "        fig, ax = plt.subplots(figsize=(8, 6))\n",
    "\n",
    "        ax.hist(df[col], bins=20, linewidth=0.5, edgecolor=\"white\")\n",
    "\n",
    "        plt.suptitle(f'Distribution of the {col.capitalize()}', fontsize=14)\n",
    "        \n",
    "        ax.set_xlabel(f'{col.capitalize()}')\n",
    "        \n",
    "        ax.set_ylabel('Distribution')\n",
    "        \n",
    "        plt.show()\n",
    "        \n",
    "    else:\n",
    "\n",
    "        # plot:\n",
    "        fig, ax = plt.subplots(figsize=(8, 6))\n",
    "        \n",
    "        data = df[col].value_counts(sort=True)\n",
    "        \n",
    "        ax.bar(data.index[:10] if len(data) > 10 else data.index, \n",
    "               data.values[:10] if len(data) > 10 else data.values, \n",
    "               linewidth=0.5, edgecolor=\"white\")\n",
    "\n",
    "        plt.suptitle(f'Distribution of the {col.capitalize()}', fontsize=14)\n",
    "        \n",
    "        ax.set_ylabel('Distribution')\n",
    "        \n",
    "        plt.show()"
   ]
  },
  {
   "cell_type": "code",
   "execution_count": 38,
   "metadata": {},
   "outputs": [
    {
     "data": {
      "image/png": "[encoded data removed]",
      "text/plain": [
       "<Figure size 1440x1440 with 16 Axes>"
      ]
     },
     "metadata": {
      "needs_background": "light"
     },
     "output_type": "display_data"
    }
   ],
   "source": [
    "df.hist(bins='auto',figsize=(20,20));"
   ]
  },
  {
   "cell_type": "markdown",
   "metadata": {},
   "source": [
    "## COMMENT"
   ]
  },
  {
   "cell_type": "markdown",
   "metadata": {},
   "source": [
    "\n",
    "Almost all of the distributions reveal a normal distribution of the features.\n",
    "\n",
    "It is worth noting that the distribution of customer service calls and total intl callsare right-tailed.\n",
    "\n",
    "The number vmail messages feature also displays a strange distribution illustrating that alot users opted out of sending/ receiving voice mail messages and very few other people decided to have the voice mail messages."
   ]
  },
  {
   "cell_type": "markdown",
   "metadata": {},
   "source": [
    "## Visualisation of Categorical features"
   ]
  },
  {
   "cell_type": "markdown",
   "metadata": {},
   "source": [
    "## Churn"
   ]
  },
  {
   "cell_type": "code",
   "execution_count": 39,
   "metadata": {},
   "outputs": [
    {
     "data": {
      "image/png": "[encoded data removed]",
      "text/plain": [
       "<Figure size 576x432 with 1 Axes>"
      ]
     },
     "metadata": {
      "needs_background": "light"
     },
     "output_type": "display_data"
    }
   ],
   "source": [
    "univariate_plot('churn')"
   ]
  },
  {
   "cell_type": "markdown",
   "metadata": {},
   "source": [
    "Almost 15% the customers churned while the rest stayed with Syria Telecommunications."
   ]
  },
  {
   "cell_type": "markdown",
   "metadata": {},
   "source": [
    "## State"
   ]
  },
  {
   "cell_type": "code",
   "execution_count": 40,
   "metadata": {},
   "outputs": [
    {
     "data": {
      "image/png": "[encoded data removed]",
      "text/plain": [
       "<Figure size 576x432 with 1 Axes>"
      ]
     },
     "metadata": {
      "needs_background": "light"
     },
     "output_type": "display_data"
    }
   ],
   "source": [
    "univariate_plot('state')"
   ]
  },
  {
   "cell_type": "markdown",
   "metadata": {},
   "source": [
    "West Virginia, Minnesota and New York contain most of Syria Telecommunications customers"
   ]
  },
  {
   "cell_type": "markdown",
   "metadata": {},
   "source": [
    "# International Plan"
   ]
  },
  {
   "cell_type": "code",
   "execution_count": 41,
   "metadata": {},
   "outputs": [
    {
     "data": {
      "image/png": "[encoded data removed]",
      "text/plain": [
       "<Figure size 576x432 with 1 Axes>"
      ]
     },
     "metadata": {
      "needs_background": "light"
     },
     "output_type": "display_data"
    }
   ],
   "source": [
    "univariate_plot('international plan')"
   ]
  },
  {
   "cell_type": "code",
   "execution_count": 42,
   "metadata": {},
   "outputs": [
    {
     "data": {
      "text/plain": [
       "no     0.90309\n",
       "yes    0.09691\n",
       "Name: international plan, dtype: float64"
      ]
     },
     "execution_count": 42,
     "metadata": {},
     "output_type": "execute_result"
    }
   ],
   "source": [
    "df['international plan'].value_counts(normalize=True)"
   ]
  },
  {
   "cell_type": "markdown",
   "metadata": {},
   "source": [
    "Near 10% of the customers have an international plan"
   ]
  },
  {
   "cell_type": "markdown",
   "metadata": {},
   "source": [
    "# Area Code"
   ]
  },
  {
   "cell_type": "code",
   "execution_count": 43,
   "metadata": {},
   "outputs": [
    {
     "data": {
      "image/png": "[encoded data removed]",
      "text/plain": [
       "<Figure size 576x432 with 1 Axes>"
      ]
     },
     "metadata": {
      "needs_background": "light"
     },
     "output_type": "display_data"
    }
   ],
   "source": [
    "univariate_plot('area code')"
   ]
  },
  {
   "cell_type": "markdown",
   "metadata": {},
   "source": [
    "Most of the customers came from the 410 area code region."
   ]
  },
  {
   "cell_type": "markdown",
   "metadata": {},
   "source": [
    "# Voice Mail plans"
   ]
  },
  {
   "cell_type": "code",
   "execution_count": 44,
   "metadata": {},
   "outputs": [
    {
     "data": {
      "image/png": "[encoded data removed]",
      "text/plain": [
       "<Figure size 576x432 with 1 Axes>"
      ]
     },
     "metadata": {
      "needs_background": "light"
     },
     "output_type": "display_data"
    }
   ],
   "source": [
    "univariate_plot('voice mail plan')"
   ]
  },
  {
   "cell_type": "code",
   "execution_count": 45,
   "metadata": {},
   "outputs": [
    {
     "data": {
      "text/plain": [
       "no     0.723372\n",
       "yes    0.276628\n",
       "Name: voice mail plan, dtype: float64"
      ]
     },
     "execution_count": 45,
     "metadata": {},
     "output_type": "execute_result"
    }
   ],
   "source": [
    "df['voice mail plan'].value_counts(normalize=True)"
   ]
  },
  {
   "cell_type": "markdown",
   "metadata": {},
   "source": [
    "Nearly 28% of the customers have a voice mail plan."
   ]
  },
  {
   "cell_type": "markdown",
   "metadata": {},
   "source": [
    "## Visualisation of Numerical columns"
   ]
  }
 ],
 "metadata": {
  "kernelspec": {
   "display_name": "learn-env",
   "language": "python",
   "name": "python3"
  },
  "language_info": {
   "codemirror_mode": {
    "name": "ipython",
    "version": 3
   },
   "file_extension": ".py",
   "mimetype": "text/x-python",
   "name": "python",
   "nbconvert_exporter": "python",
   "pygments_lexer": "ipython3",
   "version": "3.8.5"
  }
 },
 "nbformat": 4,
 "nbformat_minor": 2
}
