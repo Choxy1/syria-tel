{
 "cells": [
  {
   "cell_type": "markdown",
   "metadata": {},
   "source": [
    "# 1.0. Business Understanding\n"
   ]
  },
  {
   "cell_type": "markdown",
   "metadata": {},
   "source": [
    "# Overview"
   ]
  },
  {
   "cell_type": "markdown",
   "metadata": {},
   "source": [
    "The global telecommunications industry is known for intense competition and unpredictable business conditions, making it challenging for less resilient companies. Customer retention fluctuates dramatically due to factors such as economic downturns, rising costs, competitive alternatives, rapid technological advancements, globalization, government intervention, and various other influences."
   ]
  },
  {
   "cell_type": "markdown",
   "metadata": {},
   "source": [
    "# Problem Statement"
   ]
  },
  {
   "cell_type": "markdown",
   "metadata": {},
   "source": [
    "Syria Telecommunications is grappling with the same challenges as other major telecom companies, but possibly at a more severe level. While the industry standard churn rate falls between 5% and 7%, Syria Telecommunications has seen its churn rate spike to nearly 15% at the time of data collection. In response, the company's management has tasked the Data Science Department with the responsibility of gathering, cleaning, and analyzing data to uncover the reasons behind this alarming rate and to propose practical solutions to address the issue."
   ]
  },
  {
   "cell_type": "markdown",
   "metadata": {},
   "source": [
    "# Business Problem"
   ]
  },
  {
   "cell_type": "markdown",
   "metadata": {},
   "source": [
    "Despite the potential for booming profits and increased market share, Syria Telecommunications is experiencing a decline in customer retention. This downward trend threatens to steer the company away from its business objectives and hinder its growth."
   ]
  },
  {
   "cell_type": "markdown",
   "metadata": {},
   "source": [
    "# Objectives\n"
   ]
  },
  {
   "cell_type": "markdown",
   "metadata": {},
   "source": [
    "To identify factors leading to increased churn rates\n",
    "\n",
    "To create a classification model that predicts whether a customer will churn with a recall of over 80%\n",
    "\n",
    "To give customer retention recommendations"
   ]
  },
  {
   "cell_type": "markdown",
   "metadata": {},
   "source": [
    "# 2.0 Data understanding"
   ]
  },
  {
   "cell_type": "markdown",
   "metadata": {},
   "source": [
    "The data was sourced from Kaggle.\n",
    "\n",
    "There are 3333 records and 21 features in the data.\n",
    "\n",
    "Associated columns included are:\n",
    "\n",
    "State: The location of the customer.\n",
    "\n",
    "Account Length: The number of days the account was held by the customer.\n",
    "\n",
    "Area Code: The area code of the customer.\n",
    "\n",
    "Phone Number: Phone number assigned to the user.\n",
    "\n",
    "International Plan: Indicator of whether the customer has an international plan.\n",
    "\n",
    "Voice Mail Plan: Indicator of whether the customer has a voicemail plan.\n",
    "\n",
    "Number Vmail Messages: Number of voicemails sent.\n",
    "\n",
    "Total Day Minutes: Number of minutes the customer has been in calls during the day.\n",
    "\n",
    "Total Day Calls: Total calls made during the day.\n",
    "\n",
    "Total Day Charge: Billed charge to the customer for all day calls.\n",
    "\n",
    "Total Eve Minutes: Number of minutes the customer has been in calls during the evening.\n",
    "\n",
    "Total Eve Calls: Total calls made during the evening.\n",
    "\n",
    "Total Eve Charge: Billed charge to the customer for all evening calls.\n",
    "\n",
    "Total Night Minutes: Number of minutes the customer has been in calls during the night.\n",
    "\n",
    "Total Night Calls: Total calls made during the night.\n",
    "\n",
    "Total Night Charge: Billed charge to the customer for all night calls.\n",
    "\n",
    "Total Intl Minutes: Total number minutes on international calls.\n",
    "\n",
    "Total Intl Calls: Total internation calls made.\n",
    "\n",
    "Total Intl Charge: Billed charge to the customer for all international calls.\n",
    "\n",
    "Customer Service Calls: Number of calls made to customer service.\n",
    "\n",
    "Churn: Indication of whether the customer terminated their contract."
   ]
  }
 ],
 "metadata": {
  "language_info": {
   "name": "python"
  }
 },
 "nbformat": 4,
 "nbformat_minor": 2
}
